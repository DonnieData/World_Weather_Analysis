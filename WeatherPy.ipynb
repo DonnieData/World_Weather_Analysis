{
 "cells": [
  {
   "cell_type": "markdown",
   "metadata": {
    "execution": {
     "iopub.execute_input": "2020-11-02T00:43:52.768007Z",
     "iopub.status.busy": "2020-11-02T00:43:52.768007Z",
     "iopub.status.idle": "2020-11-02T00:43:52.770999Z",
     "shell.execute_reply": "2020-11-02T00:43:52.770719Z",
     "shell.execute_reply.started": "2020-11-02T00:43:52.768007Z"
    }
   },
   "source": [
    "## Create Latitude and Longitude Combinations"
   ]
  },
  {
   "cell_type": "code",
   "execution_count": 68,
   "metadata": {
    "execution": {
     "iopub.execute_input": "2020-11-02T01:33:20.882143Z",
     "iopub.status.busy": "2020-11-02T01:33:20.882143Z",
     "iopub.status.idle": "2020-11-02T01:33:20.887129Z",
     "shell.execute_reply": "2020-11-02T01:33:20.886132Z",
     "shell.execute_reply.started": "2020-11-02T01:33:20.882143Z"
    }
   },
   "outputs": [],
   "source": [
    "# Import the dependencies.\n",
    "import pandas as pd\n",
    "import matplotlib.pyplot as plt\n",
    "import numpy as np"
   ]
  },
  {
   "cell_type": "code",
   "execution_count": 69,
   "metadata": {
    "execution": {
     "iopub.execute_input": "2020-11-02T01:33:21.362985Z",
     "iopub.status.busy": "2020-11-02T01:33:21.362008Z",
     "iopub.status.idle": "2020-11-02T01:33:21.369965Z",
     "shell.execute_reply": "2020-11-02T01:33:21.368968Z",
     "shell.execute_reply.started": "2020-11-02T01:33:21.362985Z"
    }
   },
   "outputs": [
    {
     "data": {
      "text/plain": [
       "<zip at 0x231f3b2fbc8>"
      ]
     },
     "execution_count": 69,
     "metadata": {},
     "output_type": "execute_result"
    }
   ],
   "source": [
    "# Create a set of random latitude and longitude combinations.\n",
    "lats = np.random.uniform(low=-90.000, high=90.000, size=1500)\n",
    "lngs = np.random.uniform(low=-180.000, high=180.000, size=1500)\n",
    "lat_lngs = zip(lats, lngs)\n",
    "lat_lngs"
   ]
  },
  {
   "cell_type": "markdown",
   "metadata": {},
   "source": [
    "> NOTE\n",
    "You can only unzip a zipped tuple once before it is removed from the computer's memory. Make sure you unzip the latitudes and longitudes into the coordinates list before moving on."
   ]
  },
  {
   "cell_type": "code",
   "execution_count": 70,
   "metadata": {
    "execution": {
     "iopub.execute_input": "2020-11-02T01:33:24.197475Z",
     "iopub.status.busy": "2020-11-02T01:33:24.197475Z",
     "iopub.status.idle": "2020-11-02T01:33:24.202465Z",
     "shell.execute_reply": "2020-11-02T01:33:24.201466Z",
     "shell.execute_reply.started": "2020-11-02T01:33:24.197475Z"
    }
   },
   "outputs": [],
   "source": [
    "# Add the latitudes and longitudes to a list.\n",
    "coordinates = list(lat_lngs)"
   ]
  },
  {
   "cell_type": "code",
   "execution_count": 71,
   "metadata": {
    "execution": {
     "iopub.execute_input": "2020-11-02T01:33:25.164892Z",
     "iopub.status.busy": "2020-11-02T01:33:25.163851Z",
     "iopub.status.idle": "2020-11-02T01:33:25.170356Z",
     "shell.execute_reply": "2020-11-02T01:33:25.169838Z",
     "shell.execute_reply.started": "2020-11-02T01:33:25.164892Z"
    }
   },
   "outputs": [
    {
     "data": {
      "text/plain": [
       "(-64.61223694913713, 128.4748441740336)"
      ]
     },
     "execution_count": 71,
     "metadata": {},
     "output_type": "execute_result"
    }
   ],
   "source": [
    "coordinates[0]"
   ]
  },
  {
   "cell_type": "code",
   "execution_count": 72,
   "metadata": {
    "execution": {
     "iopub.execute_input": "2020-11-02T01:33:27.410670Z",
     "iopub.status.busy": "2020-11-02T01:33:27.410670Z",
     "iopub.status.idle": "2020-11-02T01:33:27.414654Z",
     "shell.execute_reply": "2020-11-02T01:33:27.413656Z",
     "shell.execute_reply.started": "2020-11-02T01:33:27.410670Z"
    }
   },
   "outputs": [],
   "source": [
    "# Use the citipy module to determine city based on latitude and longitude.\n",
    "from citipy import citipy"
   ]
  },
  {
   "cell_type": "code",
   "execution_count": 73,
   "metadata": {
    "execution": {
     "iopub.execute_input": "2020-11-02T01:33:28.019917Z",
     "iopub.status.busy": "2020-11-02T01:33:28.019917Z",
     "iopub.status.idle": "2020-11-02T01:33:29.283182Z",
     "shell.execute_reply": "2020-11-02T01:33:29.283182Z",
     "shell.execute_reply.started": "2020-11-02T01:33:28.019917Z"
    }
   },
   "outputs": [
    {
     "data": {
      "text/plain": [
       "635"
      ]
     },
     "execution_count": 73,
     "metadata": {},
     "output_type": "execute_result"
    }
   ],
   "source": [
    "# Create a list for holding the cities.\n",
    "cities = []\n",
    "# Identify the nearest city for each latitude and longitude combination.\n",
    "for coordinate in coordinates:\n",
    "    city = citipy.nearest_city(coordinate[0], coordinate[1]).city_name\n",
    "\n",
    "    # If the city is unique, then we will add it to the cities list.\n",
    "    if city not in cities:\n",
    "        cities.append(city)\n",
    "# Print the city count to confirm sufficient count.\n",
    "len(cities)"
   ]
  },
  {
   "cell_type": "markdown",
   "metadata": {},
   "source": [
    ">The citipy module finds the nearest city to the latitude and longitude pair with a population of 500 or more.\n",
    "\n"
   ]
  },
  {
   "cell_type": "code",
   "execution_count": 117,
   "metadata": {
    "execution": {
     "iopub.execute_input": "2020-11-02T17:29:12.506867Z",
     "iopub.status.busy": "2020-11-02T17:29:12.506867Z",
     "iopub.status.idle": "2020-11-02T17:29:12.511417Z",
     "shell.execute_reply": "2020-11-02T17:29:12.510857Z",
     "shell.execute_reply.started": "2020-11-02T17:29:12.506867Z"
    }
   },
   "outputs": [],
   "source": [
    "# Import the requests library.\n",
    "import requests\n",
    "# Import the API key.\n",
    "from config import weather_api_key"
   ]
  },
  {
   "cell_type": "code",
   "execution_count": 124,
   "metadata": {
    "execution": {
     "iopub.execute_input": "2020-11-02T18:03:29.215460Z",
     "iopub.status.busy": "2020-11-02T18:03:29.215460Z",
     "iopub.status.idle": "2020-11-02T18:03:29.219448Z",
     "shell.execute_reply": "2020-11-02T18:03:29.219448Z",
     "shell.execute_reply.started": "2020-11-02T18:03:29.215460Z"
    }
   },
   "outputs": [],
   "source": [
    "#create endpoint url\n",
    "city = citipy.nearest_city(coordinates[0][0],coordinates[0][1]).city_name\n",
    "units = 'imperial'\n",
    "url = 'http://api.openweathermap.org/data/2.5/weather?q='+city+'&units='+units+'&appid='+weather_api_key"
   ]
  },
  {
   "cell_type": "code",
   "execution_count": 126,
   "metadata": {
    "execution": {
     "iopub.execute_input": "2020-11-02T18:04:46.480784Z",
     "iopub.status.busy": "2020-11-02T18:04:46.480784Z",
     "iopub.status.idle": "2020-11-02T18:04:46.627409Z",
     "shell.execute_reply": "2020-11-02T18:04:46.627409Z",
     "shell.execute_reply.started": "2020-11-02T18:04:46.480784Z"
    }
   },
   "outputs": [],
   "source": [
    "city_1 = requests.get(url).json()"
   ]
  },
  {
   "cell_type": "code",
   "execution_count": 145,
   "metadata": {
    "execution": {
     "iopub.execute_input": "2020-11-02T18:08:15.937780Z",
     "iopub.status.busy": "2020-11-02T18:08:15.936783Z",
     "iopub.status.idle": "2020-11-02T18:08:15.944287Z",
     "shell.execute_reply": "2020-11-02T18:08:15.943762Z",
     "shell.execute_reply.started": "2020-11-02T18:08:15.937780Z"
    },
    "scrolled": true
   },
   "outputs": [
    {
     "data": {
      "text/plain": [
       "{'coord': {'lon': 147.06, 'lat': -42.78},\n",
       " 'weather': [{'id': 804,\n",
       "   'main': 'Clouds',\n",
       "   'description': 'overcast clouds',\n",
       "   'icon': '04n'}],\n",
       " 'base': 'stations',\n",
       " 'main': {'temp': 59.79,\n",
       "  'feels_like': 56.77,\n",
       "  'temp_min': 57.99,\n",
       "  'temp_max': 62.01,\n",
       "  'pressure': 1019,\n",
       "  'humidity': 58},\n",
       " 'visibility': 10000,\n",
       " 'wind': {'speed': 3.29, 'deg': 329},\n",
       " 'clouds': {'all': 100},\n",
       " 'dt': 1604340248,\n",
       " 'sys': {'type': 3,\n",
       "  'id': 2031307,\n",
       "  'country': 'AU',\n",
       "  'sunrise': 1604343162,\n",
       "  'sunset': 1604393872},\n",
       " 'timezone': 39600,\n",
       " 'id': 2155415,\n",
       " 'name': 'New Norfolk',\n",
       " 'cod': 200}"
      ]
     },
     "execution_count": 145,
     "metadata": {},
     "output_type": "execute_result"
    }
   ],
   "source": [
    "city_1"
   ]
  },
  {
   "cell_type": "code",
   "execution_count": 146,
   "metadata": {
    "execution": {
     "iopub.execute_input": "2020-11-02T19:13:26.508589Z",
     "iopub.status.busy": "2020-11-02T19:13:26.508589Z",
     "iopub.status.idle": "2020-11-02T19:13:26.512578Z",
     "shell.execute_reply": "2020-11-02T19:13:26.512376Z",
     "shell.execute_reply.started": "2020-11-02T19:13:26.508589Z"
    }
   },
   "outputs": [],
   "source": [
    "# Import the datetime module from the datetime library.\n",
    "from datetime import datetime"
   ]
  },
  {
   "cell_type": "code",
   "execution_count": null,
   "metadata": {},
   "outputs": [],
   "source": [
    "# Create an empty list to hold the weather data.\n",
    "city_data = []\n",
    "# Print the beginning of the logging.\n",
    "print(\"Beginning Data Retrieval     \")\n",
    "print(\"-----------------------------\")\n",
    "\n",
    "# Create counters.\n",
    "record_count = 1\n",
    "set_count = 1"
   ]
  },
  {
   "cell_type": "code",
   "execution_count": 151,
   "metadata": {
    "execution": {
     "iopub.execute_input": "2020-11-02T22:26:11.511589Z",
     "iopub.status.busy": "2020-11-02T22:26:11.511589Z",
     "iopub.status.idle": "2020-11-02T22:26:11.516575Z",
     "shell.execute_reply": "2020-11-02T22:26:11.516575Z",
     "shell.execute_reply.started": "2020-11-02T22:26:11.511589Z"
    }
   },
   "outputs": [
    {
     "data": {
      "text/plain": [
       "4"
      ]
     },
     "execution_count": 151,
     "metadata": {},
     "output_type": "execute_result"
    }
   ],
   "source": [
    "55 % 51"
   ]
  },
  {
   "cell_type": "code",
   "execution_count": null,
   "metadata": {},
   "outputs": [],
   "source": []
  }
 ],
 "metadata": {
  "kernelspec": {
   "display_name": "PythonData",
   "language": "python",
   "name": "pythondata"
  },
  "language_info": {
   "codemirror_mode": {
    "name": "ipython",
    "version": 3
   },
   "file_extension": ".py",
   "mimetype": "text/x-python",
   "name": "python",
   "nbconvert_exporter": "python",
   "pygments_lexer": "ipython3",
   "version": "3.7.9"
  }
 },
 "nbformat": 4,
 "nbformat_minor": 4
}
