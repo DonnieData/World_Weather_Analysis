{
 "cells": [
  {
   "cell_type": "markdown",
   "metadata": {
    "execution": {
     "iopub.execute_input": "2020-11-02T00:43:52.768007Z",
     "iopub.status.busy": "2020-11-02T00:43:52.768007Z",
     "iopub.status.idle": "2020-11-02T00:43:52.770999Z",
     "shell.execute_reply": "2020-11-02T00:43:52.770719Z",
     "shell.execute_reply.started": "2020-11-02T00:43:52.768007Z"
    }
   },
   "source": [
    "## Create Latitude and Longitude Combinations"
   ]
  },
  {
   "cell_type": "code",
   "execution_count": 68,
   "metadata": {
    "execution": {
     "iopub.execute_input": "2020-11-02T01:33:20.882143Z",
     "iopub.status.busy": "2020-11-02T01:33:20.882143Z",
     "iopub.status.idle": "2020-11-02T01:33:20.887129Z",
     "shell.execute_reply": "2020-11-02T01:33:20.886132Z",
     "shell.execute_reply.started": "2020-11-02T01:33:20.882143Z"
    }
   },
   "outputs": [],
   "source": [
    "# Import the dependencies.\n",
    "import pandas as pd\n",
    "import matplotlib.pyplot as plt\n",
    "import numpy as np"
   ]
  },
  {
   "cell_type": "code",
   "execution_count": 69,
   "metadata": {
    "execution": {
     "iopub.execute_input": "2020-11-02T01:33:21.362985Z",
     "iopub.status.busy": "2020-11-02T01:33:21.362008Z",
     "iopub.status.idle": "2020-11-02T01:33:21.369965Z",
     "shell.execute_reply": "2020-11-02T01:33:21.368968Z",
     "shell.execute_reply.started": "2020-11-02T01:33:21.362985Z"
    }
   },
   "outputs": [
    {
     "data": {
      "text/plain": [
       "<zip at 0x231f3b2fbc8>"
      ]
     },
     "execution_count": 69,
     "metadata": {},
     "output_type": "execute_result"
    }
   ],
   "source": [
    "# Create a set of random latitude and longitude combinations.\n",
    "lats = np.random.uniform(low=-90.000, high=90.000, size=1500)\n",
    "lngs = np.random.uniform(low=-180.000, high=180.000, size=1500)\n",
    "lat_lngs = zip(lats, lngs)\n",
    "lat_lngs"
   ]
  },
  {
   "cell_type": "markdown",
   "metadata": {},
   "source": [
    "> NOTE\n",
    "You can only unzip a zipped tuple once before it is removed from the computer's memory. Make sure you unzip the latitudes and longitudes into the coordinates list before moving on."
   ]
  },
  {
   "cell_type": "code",
   "execution_count": 70,
   "metadata": {
    "execution": {
     "iopub.execute_input": "2020-11-02T01:33:24.197475Z",
     "iopub.status.busy": "2020-11-02T01:33:24.197475Z",
     "iopub.status.idle": "2020-11-02T01:33:24.202465Z",
     "shell.execute_reply": "2020-11-02T01:33:24.201466Z",
     "shell.execute_reply.started": "2020-11-02T01:33:24.197475Z"
    }
   },
   "outputs": [],
   "source": [
    "# Add the latitudes and longitudes to a list.\n",
    "coordinates = list(lat_lngs)"
   ]
  },
  {
   "cell_type": "code",
   "execution_count": 71,
   "metadata": {
    "execution": {
     "iopub.execute_input": "2020-11-02T01:33:25.164892Z",
     "iopub.status.busy": "2020-11-02T01:33:25.163851Z",
     "iopub.status.idle": "2020-11-02T01:33:25.170356Z",
     "shell.execute_reply": "2020-11-02T01:33:25.169838Z",
     "shell.execute_reply.started": "2020-11-02T01:33:25.164892Z"
    }
   },
   "outputs": [
    {
     "data": {
      "text/plain": [
       "(-64.61223694913713, 128.4748441740336)"
      ]
     },
     "execution_count": 71,
     "metadata": {},
     "output_type": "execute_result"
    }
   ],
   "source": [
    "coordinates[0]"
   ]
  },
  {
   "cell_type": "code",
   "execution_count": 72,
   "metadata": {
    "execution": {
     "iopub.execute_input": "2020-11-02T01:33:27.410670Z",
     "iopub.status.busy": "2020-11-02T01:33:27.410670Z",
     "iopub.status.idle": "2020-11-02T01:33:27.414654Z",
     "shell.execute_reply": "2020-11-02T01:33:27.413656Z",
     "shell.execute_reply.started": "2020-11-02T01:33:27.410670Z"
    }
   },
   "outputs": [],
   "source": [
    "# Use the citipy module to determine city based on latitude and longitude.\n",
    "from citipy import citipy"
   ]
  },
  {
   "cell_type": "code",
   "execution_count": 73,
   "metadata": {
    "execution": {
     "iopub.execute_input": "2020-11-02T01:33:28.019917Z",
     "iopub.status.busy": "2020-11-02T01:33:28.019917Z",
     "iopub.status.idle": "2020-11-02T01:33:29.283182Z",
     "shell.execute_reply": "2020-11-02T01:33:29.283182Z",
     "shell.execute_reply.started": "2020-11-02T01:33:28.019917Z"
    }
   },
   "outputs": [
    {
     "data": {
      "text/plain": [
       "635"
      ]
     },
     "execution_count": 73,
     "metadata": {},
     "output_type": "execute_result"
    }
   ],
   "source": [
    "# Create a list for holding the cities.\n",
    "cities = []\n",
    "# Identify the nearest city for each latitude and longitude combination.\n",
    "for coordinate in coordinates:\n",
    "    city = citipy.nearest_city(coordinate[0], coordinate[1]).city_name\n",
    "\n",
    "    # If the city is unique, then we will add it to the cities list.\n",
    "    if city not in cities:\n",
    "        cities.append(city)\n",
    "# Print the city count to confirm sufficient count.\n",
    "len(cities)"
   ]
  },
  {
   "cell_type": "code",
   "execution_count": 184,
   "metadata": {
    "execution": {
     "iopub.execute_input": "2020-11-03T01:04:53.541713Z",
     "iopub.status.busy": "2020-11-03T01:04:53.541713Z",
     "iopub.status.idle": "2020-11-03T01:04:53.545704Z",
     "shell.execute_reply": "2020-11-03T01:04:53.545704Z",
     "shell.execute_reply.started": "2020-11-03T01:04:53.541713Z"
    }
   },
   "outputs": [
    {
     "name": "stdout",
     "output_type": "stream",
     "text": [
      "['new norfolk', 'yellowknife', 'do gonbadan', 'boizenburg', 'kapaa', 'tual', 'upington', 'mataura', 'albany', 'faanui', 'ushuaia', 'taolanaro', 'bluff', 'otjimbingwe', 'east london', 'hilo', 'stow', 'kahului', 'saint-philippe', 'gardan diwal', 'basoko', 'prosec', 'letlhakane', 'pontianak', 'kodiak', 'qaanaaq', 'punta arenas', 'sur', 'bredasdorp', 'lorengau', 'jamestown', 'vaitape', 'uthal', 'butaritari', 'chuy', 'grindavik', 'dikson', 'victoria', 'khudumelapye', 'griffith', 'hasaki', 'kingseat', 'bage', 'burica', 'duki', 'carnarvon', 'barrow', 'borogontsy', 'castro', 'agropoli']\n"
     ]
    }
   ],
   "source": [
    "print(cities[0:50])"
   ]
  },
  {
   "cell_type": "markdown",
   "metadata": {},
   "source": [
    ">The citipy module finds the nearest city to the latitude and longitude pair with a population of 500 or more.\n",
    "\n"
   ]
  },
  {
   "cell_type": "code",
   "execution_count": 117,
   "metadata": {
    "execution": {
     "iopub.execute_input": "2020-11-02T17:29:12.506867Z",
     "iopub.status.busy": "2020-11-02T17:29:12.506867Z",
     "iopub.status.idle": "2020-11-02T17:29:12.511417Z",
     "shell.execute_reply": "2020-11-02T17:29:12.510857Z",
     "shell.execute_reply.started": "2020-11-02T17:29:12.506867Z"
    }
   },
   "outputs": [],
   "source": [
    "# Import the requests library.\n",
    "import requests\n",
    "# Import the API key.\n",
    "from config import weather_api_key"
   ]
  },
  {
   "cell_type": "code",
   "execution_count": 166,
   "metadata": {
    "execution": {
     "iopub.execute_input": "2020-11-03T00:15:28.502744Z",
     "iopub.status.busy": "2020-11-03T00:15:28.501706Z",
     "iopub.status.idle": "2020-11-03T00:15:28.535748Z",
     "shell.execute_reply": "2020-11-03T00:15:28.534754Z",
     "shell.execute_reply.started": "2020-11-03T00:15:28.502744Z"
    }
   },
   "outputs": [],
   "source": [
    "#create endpoint url\n",
    "city = citipy.nearest_city(coordinates[0][0],coordinates[0][1]).city_name\n",
    "url_end = 'http://api.openweathermap.org/data/2.5/weather?q='+city+'&units='+units+'&appid='+weather_api_key"
   ]
  },
  {
   "cell_type": "code",
   "execution_count": 146,
   "metadata": {
    "execution": {
     "iopub.execute_input": "2020-11-02T19:13:26.508589Z",
     "iopub.status.busy": "2020-11-02T19:13:26.508589Z",
     "iopub.status.idle": "2020-11-02T19:13:26.512578Z",
     "shell.execute_reply": "2020-11-02T19:13:26.512376Z",
     "shell.execute_reply.started": "2020-11-02T19:13:26.508589Z"
    }
   },
   "outputs": [],
   "source": [
    "# Import the datetime module from the datetime library.\n",
    "from datetime import datetime"
   ]
  },
  {
   "cell_type": "code",
   "execution_count": 168,
   "metadata": {
    "execution": {
     "iopub.execute_input": "2020-11-03T00:23:33.711259Z",
     "iopub.status.busy": "2020-11-03T00:23:33.710261Z",
     "iopub.status.idle": "2020-11-03T00:23:33.714250Z",
     "shell.execute_reply": "2020-11-03T00:23:33.714250Z",
     "shell.execute_reply.started": "2020-11-03T00:23:33.711259Z"
    }
   },
   "outputs": [],
   "source": [
    "url = 'http://api.openweathermap.org/data/2.5/weather?&units=imperial&appid='+weather_api_key "
   ]
  },
  {
   "cell_type": "code",
   "execution_count": 170,
   "metadata": {
    "execution": {
     "iopub.execute_input": "2020-11-03T00:23:51.506533Z",
     "iopub.status.busy": "2020-11-03T00:23:51.506533Z",
     "iopub.status.idle": "2020-11-03T00:23:51.511519Z",
     "shell.execute_reply": "2020-11-03T00:23:51.511519Z",
     "shell.execute_reply.started": "2020-11-03T00:23:51.506533Z"
    }
   },
   "outputs": [
    {
     "name": "stdout",
     "output_type": "stream",
     "text": [
      "Beginning Data Retrieval     \n",
      "-----------------------------\n"
     ]
    }
   ],
   "source": [
    "# Create an empty list to hold the weather data.\n",
    "city_data = []\n",
    "# Print the beginning of the logging.\n",
    "print(\"Beginning Data Retrieval     \")\n",
    "print(\"-----------------------------\")\n",
    "\n",
    "# Create counters.\n",
    "record_count = 1\n",
    "set_count = 1"
   ]
  },
  {
   "cell_type": "code",
   "execution_count": 172,
   "metadata": {
    "execution": {
     "iopub.execute_input": "2020-11-03T00:27:27.984003Z",
     "iopub.status.busy": "2020-11-03T00:27:27.984003Z",
     "iopub.status.idle": "2020-11-03T00:28:58.610336Z",
     "shell.execute_reply": "2020-11-03T00:28:58.609373Z",
     "shell.execute_reply.started": "2020-11-03T00:27:27.984003Z"
    },
    "scrolled": true
   },
   "outputs": [
    {
     "name": "stdout",
     "output_type": "stream",
     "text": [
      "Beginning Data Retrieval     \n",
      "-----------------------------\n",
      "Processing Record 1 of Set 1 | new norfolk\n",
      "Processing Record 2 of Set 1 | yellowknife\n",
      "Processing Record 3 of Set 1 | do gonbadan\n",
      "Processing Record 4 of Set 1 | boizenburg\n",
      "Processing Record 5 of Set 1 | kapaa\n",
      "Processing Record 6 of Set 1 | tual\n",
      "Processing Record 7 of Set 1 | upington\n",
      "Processing Record 8 of Set 1 | mataura\n",
      "Processing Record 9 of Set 1 | albany\n",
      "Processing Record 10 of Set 1 | faanui\n",
      "Processing Record 11 of Set 1 | ushuaia\n",
      "Processing Record 12 of Set 1 | taolanaro\n",
      "City not found. Skipping...\n",
      "Processing Record 13 of Set 1 | bluff\n",
      "Processing Record 14 of Set 1 | otjimbingwe\n",
      "Processing Record 15 of Set 1 | east london\n",
      "Processing Record 16 of Set 1 | hilo\n",
      "Processing Record 17 of Set 1 | stow\n",
      "Processing Record 18 of Set 1 | kahului\n",
      "Processing Record 19 of Set 1 | saint-philippe\n",
      "Processing Record 20 of Set 1 | gardan diwal\n",
      "City not found. Skipping...\n",
      "Processing Record 21 of Set 1 | basoko\n",
      "Processing Record 22 of Set 1 | prosec\n",
      "Processing Record 23 of Set 1 | letlhakane\n",
      "Processing Record 24 of Set 1 | pontianak\n",
      "Processing Record 25 of Set 1 | kodiak\n",
      "Processing Record 26 of Set 1 | qaanaaq\n",
      "Processing Record 27 of Set 1 | punta arenas\n",
      "Processing Record 28 of Set 1 | sur\n",
      "Processing Record 29 of Set 1 | bredasdorp\n",
      "Processing Record 30 of Set 1 | lorengau\n",
      "Processing Record 31 of Set 1 | jamestown\n",
      "Processing Record 32 of Set 1 | vaitape\n",
      "Processing Record 33 of Set 1 | uthal\n",
      "Processing Record 34 of Set 1 | butaritari\n",
      "Processing Record 35 of Set 1 | chuy\n",
      "Processing Record 36 of Set 1 | grindavik\n",
      "Processing Record 37 of Set 1 | dikson\n",
      "Processing Record 38 of Set 1 | victoria\n",
      "Processing Record 39 of Set 1 | khudumelapye\n",
      "Processing Record 40 of Set 1 | griffith\n",
      "Processing Record 41 of Set 1 | hasaki\n",
      "Processing Record 42 of Set 1 | kingseat\n",
      "Processing Record 43 of Set 1 | bage\n",
      "Processing Record 44 of Set 1 | burica\n",
      "City not found. Skipping...\n",
      "Processing Record 45 of Set 1 | duki\n",
      "Processing Record 46 of Set 1 | carnarvon\n",
      "Processing Record 47 of Set 1 | barrow\n",
      "Processing Record 48 of Set 1 | borogontsy\n",
      "Processing Record 49 of Set 1 | castro\n",
      "Processing Record 50 of Set 1 | agropoli\n",
      "Processing Record 1 of Set 2 | katsuura\n",
      "Processing Record 2 of Set 2 | nikolskoye\n",
      "Processing Record 3 of Set 2 | cidreira\n",
      "Processing Record 4 of Set 2 | qaqortoq\n",
      "Processing Record 5 of Set 2 | karakendzha\n",
      "City not found. Skipping...\n",
      "Processing Record 6 of Set 2 | severo-kurilsk\n",
      "Processing Record 7 of Set 2 | neiafu\n",
      "Processing Record 8 of Set 2 | scottsburgh\n",
      "City not found. Skipping...\n",
      "Processing Record 9 of Set 2 | rikitea\n",
      "Processing Record 10 of Set 2 | mount gambier\n",
      "Processing Record 11 of Set 2 | ostersund\n",
      "Processing Record 12 of Set 2 | sitka\n",
      "Processing Record 13 of Set 2 | fereydunshahr\n",
      "Processing Record 14 of Set 2 | maralal\n",
      "Processing Record 15 of Set 2 | puerto ayora\n",
      "Processing Record 16 of Set 2 | ixtapa\n",
      "Processing Record 17 of Set 2 | vaitupu\n",
      "City not found. Skipping...\n",
      "Processing Record 18 of Set 2 | along\n",
      "Processing Record 19 of Set 2 | kaliua\n",
      "Processing Record 20 of Set 2 | upernavik\n",
      "Processing Record 21 of Set 2 | anadyr\n",
      "Processing Record 22 of Set 2 | arraial do cabo\n",
      "Processing Record 23 of Set 2 | naliya\n",
      "Processing Record 24 of Set 2 | esperance\n",
      "Processing Record 25 of Set 2 | prince rupert\n",
      "Processing Record 26 of Set 2 | hermanus\n",
      "Processing Record 27 of Set 2 | hobart\n",
      "Processing Record 28 of Set 2 | sakakah\n",
      "Processing Record 29 of Set 2 | cururupu\n",
      "Processing Record 30 of Set 2 | bolshaya vishera\n",
      "City not found. Skipping...\n",
      "Processing Record 31 of Set 2 | nanortalik\n",
      "Processing Record 32 of Set 2 | chhindwara\n",
      "Processing Record 33 of Set 2 | sjovegan\n",
      "Processing Record 34 of Set 2 | bathsheba\n",
      "Processing Record 35 of Set 2 | leningradskiy\n",
      "Processing Record 36 of Set 2 | sulangan\n",
      "Processing Record 37 of Set 2 | veraval\n",
      "Processing Record 38 of Set 2 | port blair\n",
      "Processing Record 39 of Set 2 | cabo san lucas\n",
      "Processing Record 40 of Set 2 | iquitos\n",
      "Processing Record 41 of Set 2 | stokmarknes\n",
      "Processing Record 42 of Set 2 | bambanglipuro\n",
      "Processing Record 43 of Set 2 | vaini\n",
      "Processing Record 44 of Set 2 | saskylakh\n",
      "Processing Record 45 of Set 2 | fort myers beach\n",
      "Processing Record 46 of Set 2 | kankaanpaa\n",
      "Processing Record 47 of Set 2 | moron\n",
      "Processing Record 48 of Set 2 | manavalakurichi\n",
      "Processing Record 49 of Set 2 | busselton\n",
      "Processing Record 50 of Set 2 | mar del plata\n",
      "Processing Record 1 of Set 3 | clyde river\n",
      "Processing Record 2 of Set 3 | iberia\n",
      "Processing Record 3 of Set 3 | elizabeth city\n",
      "Processing Record 4 of Set 3 | ancud\n",
      "Processing Record 5 of Set 3 | ribeira grande\n",
      "Processing Record 6 of Set 3 | atuona\n",
      "Processing Record 7 of Set 3 | leeton\n",
      "Processing Record 8 of Set 3 | ambodifototra\n",
      "City not found. Skipping...\n",
      "Processing Record 9 of Set 3 | zhigansk\n",
      "Processing Record 10 of Set 3 | kaitangata\n",
      "Processing Record 11 of Set 3 | boende\n",
      "Processing Record 12 of Set 3 | hambantota\n",
      "Processing Record 13 of Set 3 | hofn\n",
      "Processing Record 14 of Set 3 | riachao das neves\n",
      "Processing Record 15 of Set 3 | gigmoto\n",
      "Processing Record 16 of Set 3 | adrar\n",
      "Processing Record 17 of Set 3 | buchanan\n",
      "Processing Record 18 of Set 3 | palauig\n",
      "Processing Record 19 of Set 3 | bandarbeyla\n",
      "Processing Record 20 of Set 3 | saint george\n",
      "Processing Record 21 of Set 3 | otane\n",
      "Processing Record 22 of Set 3 | port alfred\n",
      "Processing Record 23 of Set 3 | mrirt\n",
      "City not found. Skipping...\n",
      "Processing Record 24 of Set 3 | raudeberg\n",
      "Processing Record 25 of Set 3 | flagstaff\n",
      "Processing Record 26 of Set 3 | champawat\n",
      "Processing Record 27 of Set 3 | husavik\n",
      "Processing Record 28 of Set 3 | tamandare\n",
      "Processing Record 29 of Set 3 | nizhneyansk\n",
      "City not found. Skipping...\n",
      "Processing Record 30 of Set 3 | cayenne\n",
      "Processing Record 31 of Set 3 | sao filipe\n",
      "Processing Record 32 of Set 3 | erenhot\n",
      "Processing Record 33 of Set 3 | rampura\n",
      "Processing Record 34 of Set 3 | souillac\n",
      "Processing Record 35 of Set 3 | fairbanks\n",
      "Processing Record 36 of Set 3 | point pedro\n",
      "Processing Record 37 of Set 3 | honningsvag\n",
      "Processing Record 38 of Set 3 | zhovtneve\n",
      "Processing Record 39 of Set 3 | luanda\n",
      "Processing Record 40 of Set 3 | navahrudak\n",
      "Processing Record 41 of Set 3 | bilma\n",
      "Processing Record 42 of Set 3 | torbay\n",
      "Processing Record 43 of Set 3 | banjarmasin\n",
      "Processing Record 44 of Set 3 | mjolby\n",
      "Processing Record 45 of Set 3 | punta cardon\n",
      "Processing Record 46 of Set 3 | novoagansk\n",
      "Processing Record 47 of Set 3 | ubaira\n",
      "Processing Record 48 of Set 3 | bara\n",
      "Processing Record 49 of Set 3 | barentsburg\n",
      "City not found. Skipping...\n",
      "Processing Record 50 of Set 3 | cape town\n",
      "Processing Record 1 of Set 4 | pingliang\n",
      "Processing Record 2 of Set 4 | belyy yar\n",
      "Processing Record 3 of Set 4 | egvekinot\n",
      "Processing Record 4 of Set 4 | belushya guba\n",
      "City not found. Skipping...\n",
      "Processing Record 5 of Set 4 | le pont-de-claix\n",
      "Processing Record 6 of Set 4 | dalvik\n",
      "Processing Record 7 of Set 4 | juybar\n",
      "Processing Record 8 of Set 4 | tasiilaq\n",
      "Processing Record 9 of Set 4 | havelock\n",
      "Processing Record 10 of Set 4 | moranbah\n",
      "Processing Record 11 of Set 4 | palabuhanratu\n",
      "City not found. Skipping...\n",
      "Processing Record 12 of Set 4 | airai\n",
      "Processing Record 13 of Set 4 | shimoda\n",
      "Processing Record 14 of Set 4 | luderitz\n",
      "Processing Record 15 of Set 4 | mata\n",
      "Processing Record 16 of Set 4 | srednekolymsk\n",
      "Processing Record 17 of Set 4 | loikaw\n",
      "Processing Record 18 of Set 4 | bethel\n",
      "Processing Record 19 of Set 4 | georgetown\n",
      "Processing Record 20 of Set 4 | bilibino\n",
      "Processing Record 21 of Set 4 | beringovskiy\n",
      "Processing Record 22 of Set 4 | kamenka\n",
      "Processing Record 23 of Set 4 | amazar\n",
      "Processing Record 24 of Set 4 | roswell\n",
      "Processing Record 25 of Set 4 | rovaniemi\n",
      "Processing Record 26 of Set 4 | fortuna\n",
      "Processing Record 27 of Set 4 | longyearbyen\n",
      "Processing Record 28 of Set 4 | saldanha\n",
      "Processing Record 29 of Set 4 | thompson\n",
      "Processing Record 30 of Set 4 | praia da vitoria\n",
      "Processing Record 31 of Set 4 | formosa\n",
      "Processing Record 32 of Set 4 | yulara\n",
      "Processing Record 33 of Set 4 | manzil tamim\n",
      "City not found. Skipping...\n",
      "Processing Record 34 of Set 4 | petropavlovsk-kamchatskiy\n",
      "Processing Record 35 of Set 4 | tuktoyaktuk\n",
      "Processing Record 36 of Set 4 | iralaya\n",
      "Processing Record 37 of Set 4 | port hardy\n",
      "Processing Record 38 of Set 4 | sobolevo\n",
      "Processing Record 39 of Set 4 | seoul\n",
      "Processing Record 40 of Set 4 | tahe\n",
      "Processing Record 41 of Set 4 | villa sandino\n",
      "Processing Record 42 of Set 4 | gull lake\n",
      "Processing Record 43 of Set 4 | dobrljin\n",
      "Processing Record 44 of Set 4 | yakeshi\n",
      "Processing Record 45 of Set 4 | northam\n",
      "Processing Record 46 of Set 4 | soubre\n",
      "Processing Record 47 of Set 4 | ryotsu\n",
      "Processing Record 48 of Set 4 | oranjemund\n",
      "Processing Record 49 of Set 4 | cherskiy\n",
      "Processing Record 50 of Set 4 | santa luzia\n",
      "Processing Record 1 of Set 5 | palu\n",
      "Processing Record 2 of Set 5 | hithadhoo\n",
      "Processing Record 3 of Set 5 | laguna\n",
      "Processing Record 4 of Set 5 | sao joao da barra\n",
      "Processing Record 5 of Set 5 | talnakh\n",
      "Processing Record 6 of Set 5 | tucuman\n",
      "Processing Record 7 of Set 5 | havoysund\n",
      "Processing Record 8 of Set 5 | mount isa\n",
      "Processing Record 9 of Set 5 | amderma\n",
      "City not found. Skipping...\n",
      "Processing Record 10 of Set 5 | pangnirtung\n",
      "Processing Record 11 of Set 5 | buraydah\n",
      "Processing Record 12 of Set 5 | san cristobal\n",
      "Processing Record 13 of Set 5 | christchurch\n",
      "Processing Record 14 of Set 5 | illoqqortoormiut\n",
      "City not found. Skipping...\n",
      "Processing Record 15 of Set 5 | ponta do sol\n",
      "Processing Record 16 of Set 5 | kachug\n",
      "Processing Record 17 of Set 5 | lavrentiya\n",
      "Processing Record 18 of Set 5 | ouadda\n",
      "Processing Record 19 of Set 5 | unity\n",
      "Processing Record 20 of Set 5 | avarua\n",
      "Processing Record 21 of Set 5 | atyrau\n",
      "Processing Record 22 of Set 5 | vadso\n",
      "Processing Record 23 of Set 5 | touros\n",
      "Processing Record 24 of Set 5 | daru\n",
      "Processing Record 25 of Set 5 | altamira\n",
      "Processing Record 26 of Set 5 | dauphin\n",
      "Processing Record 27 of Set 5 | kaya\n",
      "Processing Record 28 of Set 5 | clayton\n",
      "Processing Record 29 of Set 5 | tumannyy\n",
      "City not found. Skipping...\n",
      "Processing Record 30 of Set 5 | aswan\n",
      "Processing Record 31 of Set 5 | mpongwe\n",
      "Processing Record 32 of Set 5 | evensk\n",
      "Processing Record 33 of Set 5 | banda aceh\n",
      "Processing Record 34 of Set 5 | goma\n",
      "Processing Record 35 of Set 5 | tautira\n",
      "Processing Record 36 of Set 5 | mikhaylovka\n",
      "Processing Record 37 of Set 5 | lagoa\n",
      "Processing Record 38 of Set 5 | gladstone\n",
      "Processing Record 39 of Set 5 | diapaga\n",
      "Processing Record 40 of Set 5 | calvinia\n",
      "Processing Record 41 of Set 5 | eldorado\n",
      "Processing Record 42 of Set 5 | lompoc\n",
      "Processing Record 43 of Set 5 | mandera\n",
      "Processing Record 44 of Set 5 | puro\n",
      "Processing Record 45 of Set 5 | marcona\n",
      "City not found. Skipping...\n",
      "Processing Record 46 of Set 5 | qasigiannguit\n",
      "Processing Record 47 of Set 5 | saint-louis\n",
      "Processing Record 48 of Set 5 | auki\n",
      "Processing Record 49 of Set 5 | shingu\n",
      "Processing Record 50 of Set 5 | luancheng\n",
      "Processing Record 1 of Set 6 | amaigbo\n",
      "Processing Record 2 of Set 6 | cotonou\n",
      "Processing Record 3 of Set 6 | alice springs\n",
      "Processing Record 4 of Set 6 | kansanshi\n",
      "Processing Record 5 of Set 6 | port elizabeth\n",
      "Processing Record 6 of Set 6 | merauke\n",
      "Processing Record 7 of Set 6 | pisco\n",
      "Processing Record 8 of Set 6 | dudinka\n",
      "Processing Record 9 of Set 6 | port hedland\n",
      "Processing Record 10 of Set 6 | norman wells\n",
      "Processing Record 11 of Set 6 | sao jose do rio pardo\n",
      "Processing Record 12 of Set 6 | huarmey\n",
      "Processing Record 13 of Set 6 | itaqui\n",
      "Processing Record 14 of Set 6 | kuah\n",
      "Processing Record 15 of Set 6 | belmonte\n",
      "Processing Record 16 of Set 6 | monywa\n",
      "Processing Record 17 of Set 6 | rockland\n",
      "Processing Record 18 of Set 6 | lakatoro\n",
      "Processing Record 19 of Set 6 | haibowan\n",
      "City not found. Skipping...\n",
      "Processing Record 20 of Set 6 | vila do maio\n",
      "Processing Record 21 of Set 6 | sheridan\n",
      "Processing Record 22 of Set 6 | kasongo-lunda\n",
      "Processing Record 23 of Set 6 | esso\n",
      "Processing Record 24 of Set 6 | businga\n",
      "Processing Record 25 of Set 6 | mahebourg\n",
      "Processing Record 26 of Set 6 | bambous virieux\n",
      "Processing Record 27 of Set 6 | portsmouth\n",
      "Processing Record 28 of Set 6 | vila velha\n",
      "Processing Record 29 of Set 6 | lebu\n",
      "Processing Record 30 of Set 6 | vila franca do campo\n",
      "Processing Record 31 of Set 6 | vardo\n",
      "Processing Record 32 of Set 6 | jaque\n",
      "Processing Record 33 of Set 6 | hay river\n",
      "Processing Record 34 of Set 6 | alexandria\n",
      "Processing Record 35 of Set 6 | tsihombe\n",
      "City not found. Skipping...\n",
      "Processing Record 36 of Set 6 | beyneu\n",
      "Processing Record 37 of Set 6 | batouri\n",
      "Processing Record 38 of Set 6 | ushtobe\n",
      "Processing Record 39 of Set 6 | haradok\n",
      "Processing Record 40 of Set 6 | chokurdakh\n",
      "Processing Record 41 of Set 6 | mys shmidta\n",
      "City not found. Skipping...\n",
      "Processing Record 42 of Set 6 | pevek\n",
      "Processing Record 43 of Set 6 | kijang\n",
      "Processing Record 44 of Set 6 | mengcheng\n",
      "Processing Record 45 of Set 6 | nemuro\n",
      "Processing Record 46 of Set 6 | darhan\n",
      "Processing Record 47 of Set 6 | sarkand\n",
      "Processing Record 48 of Set 6 | inverness\n",
      "Processing Record 49 of Set 6 | kamaishi\n",
      "Processing Record 50 of Set 6 | kingaroy\n",
      "Processing Record 1 of Set 7 | warrington\n",
      "Processing Record 2 of Set 7 | shakawe\n",
      "Processing Record 3 of Set 7 | tiksi\n",
      "Processing Record 4 of Set 7 | koltubanovskiy\n",
      "Processing Record 5 of Set 7 | college\n",
      "Processing Record 6 of Set 7 | ilulissat\n",
      "Processing Record 7 of Set 7 | toamasina\n",
      "Processing Record 8 of Set 7 | hailar\n",
      "Processing Record 9 of Set 7 | manokwari\n",
      "Processing Record 10 of Set 7 | severo-yeniseyskiy\n",
      "Processing Record 11 of Set 7 | lasa\n",
      "Processing Record 12 of Set 7 | ust-kulom\n",
      "Processing Record 13 of Set 7 | provideniya\n",
      "Processing Record 14 of Set 7 | faya\n",
      "Processing Record 15 of Set 7 | altay\n",
      "Processing Record 16 of Set 7 | geraldton\n",
      "Processing Record 17 of Set 7 | coihaique\n",
      "Processing Record 18 of Set 7 | beidao\n",
      "Processing Record 19 of Set 7 | ferme-neuve\n",
      "Processing Record 20 of Set 7 | aflu\n",
      "City not found. Skipping...\n",
      "Processing Record 21 of Set 7 | graaff-reinet\n",
      "Processing Record 22 of Set 7 | conceicao do araguaia\n",
      "Processing Record 23 of Set 7 | vao\n",
      "Processing Record 24 of Set 7 | bardiyah\n",
      "Processing Record 25 of Set 7 | muravlenko\n",
      "Processing Record 26 of Set 7 | truckee\n",
      "Processing Record 27 of Set 7 | lakes entrance\n",
      "Processing Record 28 of Set 7 | singaraja\n",
      "Processing Record 29 of Set 7 | nicoya\n",
      "Processing Record 30 of Set 7 | grand centre\n",
      "City not found. Skipping...\n",
      "Processing Record 31 of Set 7 | kruisfontein\n",
      "Processing Record 32 of Set 7 | donghai\n",
      "Processing Record 33 of Set 7 | saint anthony\n",
      "Processing Record 34 of Set 7 | naze\n",
      "Processing Record 35 of Set 7 | keti bandar\n",
      "Processing Record 36 of Set 7 | wamba\n",
      "Processing Record 37 of Set 7 | caravelas\n",
      "Processing Record 38 of Set 7 | chardara\n",
      "Processing Record 39 of Set 7 | te anau\n",
      "Processing Record 40 of Set 7 | mingguang\n",
      "Processing Record 41 of Set 7 | inverell\n",
      "Processing Record 42 of Set 7 | padang\n",
      "Processing Record 43 of Set 7 | lokosovo\n",
      "Processing Record 44 of Set 7 | isiro\n",
      "Processing Record 45 of Set 7 | sri aman\n",
      "Processing Record 46 of Set 7 | bargal\n",
      "City not found. Skipping...\n",
      "Processing Record 47 of Set 7 | quatre cocos\n",
      "Processing Record 48 of Set 7 | peterhead\n",
      "Processing Record 49 of Set 7 | inuvik\n",
      "Processing Record 50 of Set 7 | barra patuca\n",
      "Processing Record 1 of Set 8 | ivajlovgrad\n",
      "City not found. Skipping...\n",
      "Processing Record 2 of Set 8 | urzhum\n",
      "Processing Record 3 of Set 8 | attawapiskat\n",
      "City not found. Skipping...\n",
      "Processing Record 4 of Set 8 | metehara\n",
      "City not found. Skipping...\n",
      "Processing Record 5 of Set 8 | niquelandia\n",
      "Processing Record 6 of Set 8 | kikwit\n",
      "Processing Record 7 of Set 8 | guanica\n",
      "Processing Record 8 of Set 8 | tabiauea\n",
      "City not found. Skipping...\n",
      "Processing Record 9 of Set 8 | grenada\n",
      "Processing Record 10 of Set 8 | samusu\n",
      "City not found. Skipping...\n",
      "Processing Record 11 of Set 8 | gat\n",
      "Processing Record 12 of Set 8 | dolbeau\n",
      "City not found. Skipping...\n",
      "Processing Record 13 of Set 8 | conway\n",
      "Processing Record 14 of Set 8 | vostok\n",
      "Processing Record 15 of Set 8 | okoneshnikovo\n",
      "Processing Record 16 of Set 8 | nalut\n",
      "Processing Record 17 of Set 8 | birao\n",
      "Processing Record 18 of Set 8 | rypefjord\n",
      "Processing Record 19 of Set 8 | blackwater\n",
      "Processing Record 20 of Set 8 | bure\n",
      "Processing Record 21 of Set 8 | kazalinsk\n",
      "City not found. Skipping...\n",
      "Processing Record 22 of Set 8 | gazli\n",
      "Processing Record 23 of Set 8 | sisimiut\n",
      "Processing Record 24 of Set 8 | umzimvubu\n",
      "City not found. Skipping...\n",
      "Processing Record 25 of Set 8 | gravdal\n",
      "Processing Record 26 of Set 8 | andenes\n",
      "Processing Record 27 of Set 8 | tuatapere\n",
      "Processing Record 28 of Set 8 | muroto\n",
      "Processing Record 29 of Set 8 | senmonorom\n",
      "City not found. Skipping...\n",
      "Processing Record 30 of Set 8 | umtata\n",
      "Processing Record 31 of Set 8 | rio grande\n",
      "Processing Record 32 of Set 8 | sal rei\n",
      "Processing Record 33 of Set 8 | whitehorse\n",
      "Processing Record 34 of Set 8 | cockburn town\n",
      "Processing Record 35 of Set 8 | ashington\n",
      "Processing Record 36 of Set 8 | kutum\n",
      "Processing Record 37 of Set 8 | balsas\n",
      "Processing Record 38 of Set 8 | trairi\n",
      "Processing Record 39 of Set 8 | kavaratti\n",
      "Processing Record 40 of Set 8 | alekseyevka\n",
      "Processing Record 41 of Set 8 | yerbogachen\n",
      "Processing Record 42 of Set 8 | nome\n",
      "Processing Record 43 of Set 8 | algiers\n",
      "Processing Record 44 of Set 8 | morehead\n",
      "Processing Record 45 of Set 8 | pacific grove\n",
      "Processing Record 46 of Set 8 | madera\n",
      "Processing Record 47 of Set 8 | mount darwin\n",
      "Processing Record 48 of Set 8 | grand river south east\n",
      "City not found. Skipping...\n",
      "Processing Record 49 of Set 8 | saint-pierre\n",
      "Processing Record 50 of Set 8 | kondinskoye\n",
      "Processing Record 1 of Set 9 | harper\n",
      "Processing Record 2 of Set 9 | tall kayf\n",
      "Processing Record 3 of Set 9 | waris aliganj\n",
      "Processing Record 4 of Set 9 | paamiut\n",
      "Processing Record 5 of Set 9 | san felipe\n",
      "Processing Record 6 of Set 9 | kamenskoye\n",
      "City not found. Skipping...\n",
      "Processing Record 7 of Set 9 | santa cruz cabralia\n",
      "Processing Record 8 of Set 9 | meulaboh\n",
      "Processing Record 9 of Set 9 | zhezkazgan\n",
      "Processing Record 10 of Set 9 | kirkwall\n",
      "Processing Record 11 of Set 9 | tulagi\n",
      "Processing Record 12 of Set 9 | sola\n",
      "Processing Record 13 of Set 9 | matagami\n",
      "Processing Record 14 of Set 9 | vung tau\n",
      "Processing Record 15 of Set 9 | srivardhan\n",
      "Processing Record 16 of Set 9 | biak\n",
      "Processing Record 17 of Set 9 | luau\n",
      "Processing Record 18 of Set 9 | najran\n",
      "Processing Record 19 of Set 9 | codajas\n",
      "Processing Record 20 of Set 9 | avera\n",
      "Processing Record 21 of Set 9 | beloha\n",
      "Processing Record 22 of Set 9 | kavieng\n",
      "Processing Record 23 of Set 9 | mareeba\n",
      "Processing Record 24 of Set 9 | beba\n",
      "Processing Record 25 of Set 9 | codrington\n",
      "Processing Record 26 of Set 9 | moose factory\n",
      "Processing Record 27 of Set 9 | florence\n",
      "Processing Record 28 of Set 9 | port-gentil\n",
      "Processing Record 29 of Set 9 | cololaca\n",
      "Processing Record 30 of Set 9 | imbituba\n",
      "Processing Record 31 of Set 9 | rabo de peixe\n",
      "Processing Record 32 of Set 9 | coquimbo\n",
      "Processing Record 33 of Set 9 | acajutla\n",
      "Processing Record 34 of Set 9 | douglas\n",
      "Processing Record 35 of Set 9 | tecoanapa\n",
      "Processing Record 36 of Set 9 | jiblah\n",
      "Processing Record 37 of Set 9 | axim\n",
      "Processing Record 38 of Set 9 | comodoro rivadavia\n",
      "Processing Record 39 of Set 9 | lolua\n",
      "City not found. Skipping...\n",
      "Processing Record 40 of Set 9 | pelhrimov\n",
      "Processing Record 41 of Set 9 | san-pedro\n",
      "Processing Record 42 of Set 9 | sibolga\n",
      "Processing Record 43 of Set 9 | grand-santi\n",
      "Processing Record 44 of Set 9 | russell\n",
      "Processing Record 45 of Set 9 | mouila\n",
      "Processing Record 46 of Set 9 | bokspits\n",
      "City not found. Skipping...\n",
      "Processing Record 47 of Set 9 | saint-joseph\n",
      "Processing Record 48 of Set 9 | tha chang\n",
      "Processing Record 49 of Set 9 | rolim de moura\n",
      "City not found. Skipping...\n",
      "Processing Record 50 of Set 9 | jaisalmer\n",
      "Processing Record 1 of Set 10 | fengcheng\n",
      "Processing Record 2 of Set 10 | lao cai\n",
      "Processing Record 3 of Set 10 | ponta delgada\n",
      "Processing Record 4 of Set 10 | sao felix do xingu\n",
      "Processing Record 5 of Set 10 | khani\n",
      "Processing Record 6 of Set 10 | dingzhou\n",
      "Processing Record 7 of Set 10 | seddon\n",
      "Processing Record 8 of Set 10 | hovd\n",
      "Processing Record 9 of Set 10 | zhuhai\n",
      "Processing Record 10 of Set 10 | rodrigues alves\n",
      "Processing Record 11 of Set 10 | salym\n",
      "Processing Record 12 of Set 10 | khatanga\n",
      "Processing Record 13 of Set 10 | nehe\n",
      "Processing Record 14 of Set 10 | leh\n",
      "Processing Record 15 of Set 10 | tynda\n",
      "Processing Record 16 of Set 10 | hanzhong\n",
      "Processing Record 17 of Set 10 | mayo\n",
      "Processing Record 18 of Set 10 | sayyan\n",
      "Processing Record 19 of Set 10 | tabuk\n",
      "Processing Record 20 of Set 10 | omsukchan\n",
      "Processing Record 21 of Set 10 | dali\n",
      "Processing Record 22 of Set 10 | rochester\n",
      "Processing Record 23 of Set 10 | valley city\n",
      "Processing Record 24 of Set 10 | juanacatlan\n",
      "Processing Record 25 of Set 10 | mahadday weyne\n",
      "City not found. Skipping...\n",
      "Processing Record 26 of Set 10 | kegayli\n",
      "City not found. Skipping...\n",
      "Processing Record 27 of Set 10 | sarangani\n",
      "Processing Record 28 of Set 10 | udachnyy\n",
      "Processing Record 29 of Set 10 | cariati\n",
      "Processing Record 30 of Set 10 | carauari\n",
      "Processing Record 31 of Set 10 | mizusawa\n",
      "Processing Record 32 of Set 10 | fez\n",
      "Processing Record 33 of Set 10 | pemba\n",
      "Processing Record 34 of Set 10 | adeje\n",
      "Processing Record 35 of Set 10 | xinzhi\n",
      "Processing Record 36 of Set 10 | sorland\n",
      "Processing Record 37 of Set 10 | colares\n",
      "Processing Record 38 of Set 10 | mutsamudu\n",
      "City not found. Skipping...\n",
      "Processing Record 39 of Set 10 | zhanatas\n",
      "City not found. Skipping...\n",
      "Processing Record 40 of Set 10 | great falls\n",
      "Processing Record 41 of Set 10 | portoferraio\n",
      "Processing Record 42 of Set 10 | stornoway\n",
      "Processing Record 43 of Set 10 | edson\n",
      "Processing Record 44 of Set 10 | sentyabrskiy\n",
      "City not found. Skipping...\n",
      "Processing Record 45 of Set 10 | shelburne\n",
      "Processing Record 46 of Set 10 | isangel\n",
      "Processing Record 47 of Set 10 | medina\n",
      "Processing Record 48 of Set 10 | svolvaer\n",
      "Processing Record 49 of Set 10 | junagarh\n",
      "Processing Record 50 of Set 10 | camacha\n",
      "Processing Record 1 of Set 11 | staraya mayna\n",
      "Processing Record 2 of Set 11 | korla\n",
      "Processing Record 3 of Set 11 | teterow\n",
      "Processing Record 4 of Set 11 | san borja\n",
      "Processing Record 5 of Set 11 | pokhara\n",
      "Processing Record 6 of Set 11 | la ronge\n",
      "Processing Record 7 of Set 11 | gelemso\n",
      "Processing Record 8 of Set 11 | alofi\n",
      "Processing Record 9 of Set 11 | doha\n",
      "Processing Record 10 of Set 11 | san rafael\n",
      "Processing Record 11 of Set 11 | san patricio\n",
      "Processing Record 12 of Set 11 | catuday\n",
      "Processing Record 13 of Set 11 | kashi\n",
      "Processing Record 14 of Set 11 | puerto escondido\n",
      "Processing Record 15 of Set 11 | vestmannaeyjar\n",
      "Processing Record 16 of Set 11 | felanitx\n",
      "Processing Record 17 of Set 11 | ormara\n",
      "Processing Record 18 of Set 11 | paradwip\n",
      "City not found. Skipping...\n",
      "Processing Record 19 of Set 11 | wahran\n",
      "City not found. Skipping...\n",
      "Processing Record 20 of Set 11 | celestun\n",
      "Processing Record 21 of Set 11 | newcastle\n",
      "Processing Record 22 of Set 11 | camabatela\n",
      "Processing Record 23 of Set 11 | doka\n",
      "Processing Record 24 of Set 11 | noumea\n",
      "Processing Record 25 of Set 11 | anloga\n",
      "Processing Record 26 of Set 11 | san jose\n",
      "Processing Record 27 of Set 11 | planaltina\n",
      "Processing Record 28 of Set 11 | acarau\n",
      "Processing Record 29 of Set 11 | abha\n",
      "Processing Record 30 of Set 11 | neuquen\n",
      "Processing Record 31 of Set 11 | narsaq\n",
      "Processing Record 32 of Set 11 | las cruces\n",
      "Processing Record 33 of Set 11 | kyra\n",
      "Processing Record 34 of Set 11 | carnot\n",
      "Processing Record 35 of Set 11 | aybak\n",
      "City not found. Skipping...\n",
      "Processing Record 36 of Set 11 | namtsy\n",
      "Processing Record 37 of Set 11 | javanrud\n",
      "Processing Record 38 of Set 11 | newberry\n",
      "Processing Record 39 of Set 11 | kaeo\n",
      "Processing Record 40 of Set 11 | aykhal\n",
      "Processing Record 41 of Set 11 | jacareacanga\n",
      "Processing Record 42 of Set 11 | haines junction\n",
      "Processing Record 43 of Set 11 | port lincoln\n",
      "Processing Record 44 of Set 11 | draguignan\n",
      "Processing Record 45 of Set 11 | coahuayana\n",
      "Processing Record 46 of Set 11 | shemonaikha\n",
      "Processing Record 47 of Set 11 | buzmeyin\n",
      "Processing Record 48 of Set 11 | port augusta\n",
      "Processing Record 49 of Set 11 | viedma\n",
      "Processing Record 50 of Set 11 | mabaruma\n",
      "Processing Record 1 of Set 12 | ahuimanu\n",
      "Processing Record 2 of Set 12 | pemangkat\n",
      "Processing Record 3 of Set 12 | zyryanka\n",
      "Processing Record 4 of Set 12 | salalah\n",
      "Processing Record 5 of Set 12 | westport\n",
      "Processing Record 6 of Set 12 | port shepstone\n",
      "Processing Record 7 of Set 12 | cap malheureux\n",
      "Processing Record 8 of Set 12 | high rock\n",
      "Processing Record 9 of Set 12 | barbar\n",
      "City not found. Skipping...\n",
      "Processing Record 10 of Set 12 | georgiyevka\n",
      "Processing Record 11 of Set 12 | chicama\n",
      "Processing Record 12 of Set 12 | kudahuvadhoo\n",
      "Processing Record 13 of Set 12 | morlaix\n",
      "Processing Record 14 of Set 12 | pasco\n",
      "Processing Record 15 of Set 12 | rundu\n",
      "Processing Record 16 of Set 12 | aranos\n",
      "Processing Record 17 of Set 12 | edgecumbe\n",
      "Processing Record 18 of Set 12 | strezhevoy\n",
      "Processing Record 19 of Set 12 | saint-georges\n",
      "Processing Record 20 of Set 12 | hobyo\n",
      "Processing Record 21 of Set 12 | lambarene\n",
      "Processing Record 22 of Set 12 | susangerd\n",
      "Processing Record 23 of Set 12 | alyangula\n",
      "Processing Record 24 of Set 12 | marshall\n",
      "Processing Record 25 of Set 12 | dingle\n",
      "Processing Record 26 of Set 12 | muros\n",
      "Processing Record 27 of Set 12 | nantucket\n",
      "Processing Record 28 of Set 12 | ciras\n",
      "City not found. Skipping...\n",
      "Processing Record 29 of Set 12 | laela\n",
      "Processing Record 30 of Set 12 | rurrenabaque\n",
      "Processing Record 31 of Set 12 | wadi musa\n",
      "Processing Record 32 of Set 12 | dwarka\n",
      "Processing Record 33 of Set 12 | marsa matruh\n",
      "Processing Record 34 of Set 12 | mbuji-mayi\n",
      "Processing Record 35 of Set 12 | hami\n",
      "Processing Record 36 of Set 12 | karauzyak\n",
      "City not found. Skipping...\n",
      "Processing Record 37 of Set 12 | pemberton\n",
      "Processing Record 38 of Set 12 | lerwick\n",
      "Processing Record 39 of Set 12 | quang ngai\n",
      "Processing Record 40 of Set 12 | nuevo progreso\n",
      "Processing Record 41 of Set 12 | nyurba\n",
      "Processing Record 42 of Set 12 | congonhas\n",
      "Processing Record 43 of Set 12 | asau\n",
      "Processing Record 44 of Set 12 | flinders\n",
      "Processing Record 45 of Set 12 | obo\n",
      "Processing Record 46 of Set 12 | sungaipenuh\n",
      "Processing Record 47 of Set 12 | opuwo\n",
      "Processing Record 48 of Set 12 | termiz\n",
      "Processing Record 49 of Set 12 | bonavista\n",
      "Processing Record 50 of Set 12 | grand gaube\n",
      "Processing Record 1 of Set 13 | grand-lahou\n",
      "Processing Record 2 of Set 13 | frontera\n",
      "Processing Record 3 of Set 13 | tromso\n",
      "Processing Record 4 of Set 13 | broome\n",
      "Processing Record 5 of Set 13 | constitucion\n",
      "Processing Record 6 of Set 13 | aleksandrov gay\n",
      "Processing Record 7 of Set 13 | guerrero negro\n",
      "Processing Record 8 of Set 13 | kemijarvi\n",
      "Processing Record 9 of Set 13 | lebanon\n",
      "Processing Record 10 of Set 13 | deputatskiy\n",
      "Processing Record 11 of Set 13 | yaan\n",
      "Processing Record 12 of Set 13 | saint-francois\n",
      "Processing Record 13 of Set 13 | malartic\n",
      "Processing Record 14 of Set 13 | amga\n",
      "Processing Record 15 of Set 13 | oschersleben\n",
      "Processing Record 16 of Set 13 | bontang\n",
      "Processing Record 17 of Set 13 | akonolinga\n",
      "Processing Record 18 of Set 13 | bolshoy tsaryn\n",
      "City not found. Skipping...\n",
      "Processing Record 19 of Set 13 | yatou\n",
      "Processing Record 20 of Set 13 | vanimo\n",
      "Processing Record 21 of Set 13 | bubaque\n",
      "Processing Record 22 of Set 13 | caborca\n",
      "Processing Record 23 of Set 13 | san ramon\n",
      "Processing Record 24 of Set 13 | dehloran\n",
      "Processing Record 25 of Set 13 | wakkanai\n",
      "Processing Record 26 of Set 13 | zima\n",
      "Processing Record 27 of Set 13 | lebowakgomo\n",
      "Processing Record 28 of Set 13 | khash\n",
      "Processing Record 29 of Set 13 | innisfail\n",
      "Processing Record 30 of Set 13 | broken hill\n",
      "Processing Record 31 of Set 13 | etchoropo\n",
      "Processing Record 32 of Set 13 | cheltenham\n",
      "Processing Record 33 of Set 13 | ulladulla\n",
      "Processing Record 34 of Set 13 | bossangoa\n",
      "Processing Record 35 of Set 13 | caxito\n",
      "-----------------------------\n",
      "Data Retrieval Complete      \n",
      "-----------------------------\n"
     ]
    }
   ],
   "source": [
    "# Create an empty list to hold the weather data.\n",
    "city_data = []\n",
    "# Print the beginning of the logging.\n",
    "print(\"Beginning Data Retrieval     \")\n",
    "print(\"-----------------------------\")\n",
    "\n",
    "# Create counters.\n",
    "record_count = 1\n",
    "set_count = 1\n",
    "\n",
    "# Loop through all the cities in the list.\n",
    "for i, city in enumerate(cities):\n",
    "\n",
    "    # Group cities in sets of 50 for logging purposes.\n",
    "    if (i % 50 == 0 and i >= 50):\n",
    "        set_count += 1\n",
    "        record_count = 1\n",
    "    # Create endpoint URL with each city.\n",
    "    city_url = url + \"&q=\" + city.replace(\" \",\"+\")\n",
    "\n",
    "    # Log the URL, record, and set numbers and the city.\n",
    "    print(f\"Processing Record {record_count} of Set {set_count} | {city}\")\n",
    "    # Add 1 to the record count.\n",
    "    record_count += 1\n",
    "    \n",
    "    # Run an API request for each of the cities.\n",
    "    try:\n",
    "        # Parse the JSON and retrieve data.\n",
    "        city_weather = requests.get(city_url).json()\n",
    "        # Parse out the needed data.\n",
    "        city_lat = city_weather[\"coord\"][\"lat\"]\n",
    "        city_lng = city_weather[\"coord\"][\"lon\"]\n",
    "        city_max_temp = city_weather[\"main\"][\"temp_max\"]\n",
    "        city_humidity = city_weather[\"main\"][\"humidity\"]\n",
    "        city_clouds = city_weather[\"clouds\"][\"all\"]\n",
    "        city_wind = city_weather[\"wind\"][\"speed\"]\n",
    "        city_country = city_weather[\"sys\"][\"country\"]\n",
    "        # Convert the date to ISO standard.\n",
    "        city_date = datetime.utcfromtimestamp(city_weather[\"dt\"]).strftime('%Y-%m-%d %H:%M:%S')\n",
    "        # Append the city information into city_data list.\n",
    "        city_data.append({\"City\": city.title(),\n",
    "                          \"Lat\": city_lat,\n",
    "                          \"Lng\": city_lng,\n",
    "                          \"Max Temp\": city_max_temp,\n",
    "                          \"Humidity\": city_humidity,\n",
    "                          \"Cloudiness\": city_clouds,\n",
    "                          \"Wind Speed\": city_wind,\n",
    "                          \"Country\": city_country,\n",
    "                          \"Date\": city_date})\n",
    "\n",
    "# If an error is experienced, skip the city.\n",
    "    except:\n",
    "        print(\"City not found. Skipping...\")\n",
    "        pass\n",
    "\n",
    "# Indicate that Data Loading is complete.\n",
    "print(\"-----------------------------\")\n",
    "print(\"Data Retrieval Complete      \")\n",
    "print(\"-----------------------------\")\n"
   ]
  },
  {
   "cell_type": "code",
   "execution_count": 177,
   "metadata": {
    "execution": {
     "iopub.execute_input": "2020-11-03T00:34:39.346511Z",
     "iopub.status.busy": "2020-11-03T00:34:39.346511Z",
     "iopub.status.idle": "2020-11-03T00:34:39.351499Z",
     "shell.execute_reply": "2020-11-03T00:34:39.351499Z",
     "shell.execute_reply.started": "2020-11-03T00:34:39.346511Z"
    }
   },
   "outputs": [
    {
     "data": {
      "text/plain": [
       "585"
      ]
     },
     "execution_count": 177,
     "metadata": {},
     "output_type": "execute_result"
    }
   ],
   "source": [
    "len(city_data)"
   ]
  },
  {
   "cell_type": "code",
   "execution_count": 178,
   "metadata": {
    "execution": {
     "iopub.execute_input": "2020-11-03T01:00:30.537091Z",
     "iopub.status.busy": "2020-11-03T01:00:30.537091Z",
     "iopub.status.idle": "2020-11-03T01:00:30.641583Z",
     "shell.execute_reply": "2020-11-03T01:00:30.641583Z",
     "shell.execute_reply.started": "2020-11-03T01:00:30.537091Z"
    }
   },
   "outputs": [
    {
     "data": {
      "text/html": [
       "<div>\n",
       "<style scoped>\n",
       "    .dataframe tbody tr th:only-of-type {\n",
       "        vertical-align: middle;\n",
       "    }\n",
       "\n",
       "    .dataframe tbody tr th {\n",
       "        vertical-align: top;\n",
       "    }\n",
       "\n",
       "    .dataframe thead th {\n",
       "        text-align: right;\n",
       "    }\n",
       "</style>\n",
       "<table border=\"1\" class=\"dataframe\">\n",
       "  <thead>\n",
       "    <tr style=\"text-align: right;\">\n",
       "      <th></th>\n",
       "      <th>City</th>\n",
       "      <th>Lat</th>\n",
       "      <th>Lng</th>\n",
       "      <th>Max Temp</th>\n",
       "      <th>Humidity</th>\n",
       "      <th>Cloudiness</th>\n",
       "      <th>Wind Speed</th>\n",
       "      <th>Country</th>\n",
       "      <th>Date</th>\n",
       "    </tr>\n",
       "  </thead>\n",
       "  <tbody>\n",
       "    <tr>\n",
       "      <th>0</th>\n",
       "      <td>New Norfolk</td>\n",
       "      <td>-42.78</td>\n",
       "      <td>147.06</td>\n",
       "      <td>79.00</td>\n",
       "      <td>27</td>\n",
       "      <td>87</td>\n",
       "      <td>3.00</td>\n",
       "      <td>AU</td>\n",
       "      <td>2020-11-03 00:25:28</td>\n",
       "    </tr>\n",
       "    <tr>\n",
       "      <th>1</th>\n",
       "      <td>Yellowknife</td>\n",
       "      <td>62.46</td>\n",
       "      <td>-114.35</td>\n",
       "      <td>10.99</td>\n",
       "      <td>92</td>\n",
       "      <td>90</td>\n",
       "      <td>9.17</td>\n",
       "      <td>CA</td>\n",
       "      <td>2020-11-03 00:22:48</td>\n",
       "    </tr>\n",
       "    <tr>\n",
       "      <th>2</th>\n",
       "      <td>Do Gonbadan</td>\n",
       "      <td>30.36</td>\n",
       "      <td>50.80</td>\n",
       "      <td>53.60</td>\n",
       "      <td>32</td>\n",
       "      <td>0</td>\n",
       "      <td>2.19</td>\n",
       "      <td>IR</td>\n",
       "      <td>2020-11-03 00:27:28</td>\n",
       "    </tr>\n",
       "    <tr>\n",
       "      <th>3</th>\n",
       "      <td>Boizenburg</td>\n",
       "      <td>53.38</td>\n",
       "      <td>10.72</td>\n",
       "      <td>53.01</td>\n",
       "      <td>79</td>\n",
       "      <td>59</td>\n",
       "      <td>1.01</td>\n",
       "      <td>DE</td>\n",
       "      <td>2020-11-03 00:27:28</td>\n",
       "    </tr>\n",
       "    <tr>\n",
       "      <th>4</th>\n",
       "      <td>Kapaa</td>\n",
       "      <td>22.08</td>\n",
       "      <td>-159.32</td>\n",
       "      <td>82.40</td>\n",
       "      <td>74</td>\n",
       "      <td>90</td>\n",
       "      <td>14.99</td>\n",
       "      <td>US</td>\n",
       "      <td>2020-11-03 00:24:11</td>\n",
       "    </tr>\n",
       "    <tr>\n",
       "      <th>5</th>\n",
       "      <td>Tual</td>\n",
       "      <td>-5.67</td>\n",
       "      <td>132.75</td>\n",
       "      <td>82.63</td>\n",
       "      <td>77</td>\n",
       "      <td>99</td>\n",
       "      <td>10.11</td>\n",
       "      <td>ID</td>\n",
       "      <td>2020-11-03 00:27:28</td>\n",
       "    </tr>\n",
       "    <tr>\n",
       "      <th>6</th>\n",
       "      <td>Upington</td>\n",
       "      <td>-28.45</td>\n",
       "      <td>21.26</td>\n",
       "      <td>73.40</td>\n",
       "      <td>21</td>\n",
       "      <td>37</td>\n",
       "      <td>5.82</td>\n",
       "      <td>ZA</td>\n",
       "      <td>2020-11-03 00:27:28</td>\n",
       "    </tr>\n",
       "    <tr>\n",
       "      <th>7</th>\n",
       "      <td>Mataura</td>\n",
       "      <td>-46.19</td>\n",
       "      <td>168.86</td>\n",
       "      <td>61.00</td>\n",
       "      <td>64</td>\n",
       "      <td>41</td>\n",
       "      <td>3.00</td>\n",
       "      <td>NZ</td>\n",
       "      <td>2020-11-03 00:24:07</td>\n",
       "    </tr>\n",
       "    <tr>\n",
       "      <th>8</th>\n",
       "      <td>Albany</td>\n",
       "      <td>42.60</td>\n",
       "      <td>-73.97</td>\n",
       "      <td>37.00</td>\n",
       "      <td>59</td>\n",
       "      <td>34</td>\n",
       "      <td>5.50</td>\n",
       "      <td>US</td>\n",
       "      <td>2020-11-03 00:15:05</td>\n",
       "    </tr>\n",
       "    <tr>\n",
       "      <th>9</th>\n",
       "      <td>Faanui</td>\n",
       "      <td>-16.48</td>\n",
       "      <td>-151.75</td>\n",
       "      <td>79.70</td>\n",
       "      <td>80</td>\n",
       "      <td>6</td>\n",
       "      <td>17.09</td>\n",
       "      <td>PF</td>\n",
       "      <td>2020-11-03 00:26:09</td>\n",
       "    </tr>\n",
       "  </tbody>\n",
       "</table>\n",
       "</div>"
      ],
      "text/plain": [
       "          City    Lat     Lng  Max Temp  Humidity  Cloudiness  Wind Speed  \\\n",
       "0  New Norfolk -42.78  147.06     79.00        27          87        3.00   \n",
       "1  Yellowknife  62.46 -114.35     10.99        92          90        9.17   \n",
       "2  Do Gonbadan  30.36   50.80     53.60        32           0        2.19   \n",
       "3   Boizenburg  53.38   10.72     53.01        79          59        1.01   \n",
       "4        Kapaa  22.08 -159.32     82.40        74          90       14.99   \n",
       "5         Tual  -5.67  132.75     82.63        77          99       10.11   \n",
       "6     Upington -28.45   21.26     73.40        21          37        5.82   \n",
       "7      Mataura -46.19  168.86     61.00        64          41        3.00   \n",
       "8       Albany  42.60  -73.97     37.00        59          34        5.50   \n",
       "9       Faanui -16.48 -151.75     79.70        80           6       17.09   \n",
       "\n",
       "  Country                 Date  \n",
       "0      AU  2020-11-03 00:25:28  \n",
       "1      CA  2020-11-03 00:22:48  \n",
       "2      IR  2020-11-03 00:27:28  \n",
       "3      DE  2020-11-03 00:27:28  \n",
       "4      US  2020-11-03 00:24:11  \n",
       "5      ID  2020-11-03 00:27:28  \n",
       "6      ZA  2020-11-03 00:27:28  \n",
       "7      NZ  2020-11-03 00:24:07  \n",
       "8      US  2020-11-03 00:15:05  \n",
       "9      PF  2020-11-03 00:26:09  "
      ]
     },
     "execution_count": 178,
     "metadata": {},
     "output_type": "execute_result"
    }
   ],
   "source": [
    "# Convert the array of dictionaries to a Pandas DataFrame.\n",
    "city_data_df = pd.DataFrame(city_data)\n",
    "city_data_df.head(10)"
   ]
  },
  {
   "cell_type": "code",
   "execution_count": 180,
   "metadata": {
    "execution": {
     "iopub.execute_input": "2020-11-03T01:03:44.669144Z",
     "iopub.status.busy": "2020-11-03T01:03:44.669144Z",
     "iopub.status.idle": "2020-11-03T01:03:44.682713Z",
     "shell.execute_reply": "2020-11-03T01:03:44.682713Z",
     "shell.execute_reply.started": "2020-11-03T01:03:44.669144Z"
    }
   },
   "outputs": [
    {
     "data": {
      "text/html": [
       "<div>\n",
       "<style scoped>\n",
       "    .dataframe tbody tr th:only-of-type {\n",
       "        vertical-align: middle;\n",
       "    }\n",
       "\n",
       "    .dataframe tbody tr th {\n",
       "        vertical-align: top;\n",
       "    }\n",
       "\n",
       "    .dataframe thead th {\n",
       "        text-align: right;\n",
       "    }\n",
       "</style>\n",
       "<table border=\"1\" class=\"dataframe\">\n",
       "  <thead>\n",
       "    <tr style=\"text-align: right;\">\n",
       "      <th></th>\n",
       "      <th>City</th>\n",
       "      <th>Country</th>\n",
       "      <th>Date</th>\n",
       "      <th>Lat</th>\n",
       "      <th>Lng</th>\n",
       "      <th>Max Temp</th>\n",
       "      <th>Humidity</th>\n",
       "      <th>Cloudiness</th>\n",
       "      <th>Wind Speed</th>\n",
       "    </tr>\n",
       "  </thead>\n",
       "  <tbody>\n",
       "    <tr>\n",
       "      <th>0</th>\n",
       "      <td>New Norfolk</td>\n",
       "      <td>AU</td>\n",
       "      <td>2020-11-03 00:25:28</td>\n",
       "      <td>-42.78</td>\n",
       "      <td>147.06</td>\n",
       "      <td>79.00</td>\n",
       "      <td>27</td>\n",
       "      <td>87</td>\n",
       "      <td>3.00</td>\n",
       "    </tr>\n",
       "    <tr>\n",
       "      <th>1</th>\n",
       "      <td>Yellowknife</td>\n",
       "      <td>CA</td>\n",
       "      <td>2020-11-03 00:22:48</td>\n",
       "      <td>62.46</td>\n",
       "      <td>-114.35</td>\n",
       "      <td>10.99</td>\n",
       "      <td>92</td>\n",
       "      <td>90</td>\n",
       "      <td>9.17</td>\n",
       "    </tr>\n",
       "    <tr>\n",
       "      <th>2</th>\n",
       "      <td>Do Gonbadan</td>\n",
       "      <td>IR</td>\n",
       "      <td>2020-11-03 00:27:28</td>\n",
       "      <td>30.36</td>\n",
       "      <td>50.80</td>\n",
       "      <td>53.60</td>\n",
       "      <td>32</td>\n",
       "      <td>0</td>\n",
       "      <td>2.19</td>\n",
       "    </tr>\n",
       "    <tr>\n",
       "      <th>3</th>\n",
       "      <td>Boizenburg</td>\n",
       "      <td>DE</td>\n",
       "      <td>2020-11-03 00:27:28</td>\n",
       "      <td>53.38</td>\n",
       "      <td>10.72</td>\n",
       "      <td>53.01</td>\n",
       "      <td>79</td>\n",
       "      <td>59</td>\n",
       "      <td>1.01</td>\n",
       "    </tr>\n",
       "    <tr>\n",
       "      <th>4</th>\n",
       "      <td>Kapaa</td>\n",
       "      <td>US</td>\n",
       "      <td>2020-11-03 00:24:11</td>\n",
       "      <td>22.08</td>\n",
       "      <td>-159.32</td>\n",
       "      <td>82.40</td>\n",
       "      <td>74</td>\n",
       "      <td>90</td>\n",
       "      <td>14.99</td>\n",
       "    </tr>\n",
       "  </tbody>\n",
       "</table>\n",
       "</div>"
      ],
      "text/plain": [
       "          City Country                 Date    Lat     Lng  Max Temp  \\\n",
       "0  New Norfolk      AU  2020-11-03 00:25:28 -42.78  147.06     79.00   \n",
       "1  Yellowknife      CA  2020-11-03 00:22:48  62.46 -114.35     10.99   \n",
       "2  Do Gonbadan      IR  2020-11-03 00:27:28  30.36   50.80     53.60   \n",
       "3   Boizenburg      DE  2020-11-03 00:27:28  53.38   10.72     53.01   \n",
       "4        Kapaa      US  2020-11-03 00:24:11  22.08 -159.32     82.40   \n",
       "\n",
       "   Humidity  Cloudiness  Wind Speed  \n",
       "0        27          87        3.00  \n",
       "1        92          90        9.17  \n",
       "2        32           0        2.19  \n",
       "3        79          59        1.01  \n",
       "4        74          90       14.99  "
      ]
     },
     "execution_count": 180,
     "metadata": {},
     "output_type": "execute_result"
    }
   ],
   "source": [
    "#reorder columns \n",
    "city_data_df = city_data_df[['City','Country','Date','Lat','Lng','Max Temp','Humidity','Cloudiness','Wind Speed']]\n",
    "city_data_df.head()"
   ]
  },
  {
   "cell_type": "code",
   "execution_count": 253,
   "metadata": {
    "execution": {
     "iopub.execute_input": "2020-11-03T04:22:15.860706Z",
     "iopub.status.busy": "2020-11-03T04:22:15.860706Z",
     "iopub.status.idle": "2020-11-03T04:22:15.867688Z",
     "shell.execute_reply": "2020-11-03T04:22:15.867688Z",
     "shell.execute_reply.started": "2020-11-03T04:22:15.860706Z"
    }
   },
   "outputs": [],
   "source": [
    "city_data_df.to_pickle('ciy_data.pk1')"
   ]
  },
  {
   "cell_type": "code",
   "execution_count": 258,
   "metadata": {
    "execution": {
     "iopub.execute_input": "2020-11-03T04:24:55.270272Z",
     "iopub.status.busy": "2020-11-03T04:24:55.270272Z",
     "iopub.status.idle": "2020-11-03T04:24:55.276283Z",
     "shell.execute_reply": "2020-11-03T04:24:55.276283Z",
     "shell.execute_reply.started": "2020-11-03T04:24:55.270272Z"
    }
   },
   "outputs": [],
   "source": [
    "load_city_df = pd.read_pickle('ciy_data.pk1')"
   ]
  },
  {
   "cell_type": "code",
   "execution_count": 259,
   "metadata": {
    "execution": {
     "iopub.execute_input": "2020-11-03T04:24:56.978933Z",
     "iopub.status.busy": "2020-11-03T04:24:56.978933Z",
     "iopub.status.idle": "2020-11-03T04:24:56.995885Z",
     "shell.execute_reply": "2020-11-03T04:24:56.994887Z",
     "shell.execute_reply.started": "2020-11-03T04:24:56.978933Z"
    }
   },
   "outputs": [
    {
     "data": {
      "text/html": [
       "<div>\n",
       "<style scoped>\n",
       "    .dataframe tbody tr th:only-of-type {\n",
       "        vertical-align: middle;\n",
       "    }\n",
       "\n",
       "    .dataframe tbody tr th {\n",
       "        vertical-align: top;\n",
       "    }\n",
       "\n",
       "    .dataframe thead th {\n",
       "        text-align: right;\n",
       "    }\n",
       "</style>\n",
       "<table border=\"1\" class=\"dataframe\">\n",
       "  <thead>\n",
       "    <tr style=\"text-align: right;\">\n",
       "      <th></th>\n",
       "      <th>City</th>\n",
       "      <th>Country</th>\n",
       "      <th>Date</th>\n",
       "      <th>Lat</th>\n",
       "      <th>Lng</th>\n",
       "      <th>Max Temp</th>\n",
       "      <th>Humidity</th>\n",
       "      <th>Cloudiness</th>\n",
       "      <th>Wind Speed</th>\n",
       "    </tr>\n",
       "  </thead>\n",
       "  <tbody>\n",
       "    <tr>\n",
       "      <th>0</th>\n",
       "      <td>New Norfolk</td>\n",
       "      <td>AU</td>\n",
       "      <td>2020-11-03 00:25:28</td>\n",
       "      <td>-42.78</td>\n",
       "      <td>147.06</td>\n",
       "      <td>79.00</td>\n",
       "      <td>27</td>\n",
       "      <td>87</td>\n",
       "      <td>3.00</td>\n",
       "    </tr>\n",
       "    <tr>\n",
       "      <th>1</th>\n",
       "      <td>Yellowknife</td>\n",
       "      <td>CA</td>\n",
       "      <td>2020-11-03 00:22:48</td>\n",
       "      <td>62.46</td>\n",
       "      <td>-114.35</td>\n",
       "      <td>10.99</td>\n",
       "      <td>92</td>\n",
       "      <td>90</td>\n",
       "      <td>9.17</td>\n",
       "    </tr>\n",
       "    <tr>\n",
       "      <th>2</th>\n",
       "      <td>Do Gonbadan</td>\n",
       "      <td>IR</td>\n",
       "      <td>2020-11-03 00:27:28</td>\n",
       "      <td>30.36</td>\n",
       "      <td>50.80</td>\n",
       "      <td>53.60</td>\n",
       "      <td>32</td>\n",
       "      <td>0</td>\n",
       "      <td>2.19</td>\n",
       "    </tr>\n",
       "    <tr>\n",
       "      <th>3</th>\n",
       "      <td>Boizenburg</td>\n",
       "      <td>DE</td>\n",
       "      <td>2020-11-03 00:27:28</td>\n",
       "      <td>53.38</td>\n",
       "      <td>10.72</td>\n",
       "      <td>53.01</td>\n",
       "      <td>79</td>\n",
       "      <td>59</td>\n",
       "      <td>1.01</td>\n",
       "    </tr>\n",
       "    <tr>\n",
       "      <th>4</th>\n",
       "      <td>Kapaa</td>\n",
       "      <td>US</td>\n",
       "      <td>2020-11-03 00:24:11</td>\n",
       "      <td>22.08</td>\n",
       "      <td>-159.32</td>\n",
       "      <td>82.40</td>\n",
       "      <td>74</td>\n",
       "      <td>90</td>\n",
       "      <td>14.99</td>\n",
       "    </tr>\n",
       "  </tbody>\n",
       "</table>\n",
       "</div>"
      ],
      "text/plain": [
       "          City Country                 Date    Lat     Lng  Max Temp  \\\n",
       "0  New Norfolk      AU  2020-11-03 00:25:28 -42.78  147.06     79.00   \n",
       "1  Yellowknife      CA  2020-11-03 00:22:48  62.46 -114.35     10.99   \n",
       "2  Do Gonbadan      IR  2020-11-03 00:27:28  30.36   50.80     53.60   \n",
       "3   Boizenburg      DE  2020-11-03 00:27:28  53.38   10.72     53.01   \n",
       "4        Kapaa      US  2020-11-03 00:24:11  22.08 -159.32     82.40   \n",
       "\n",
       "   Humidity  Cloudiness  Wind Speed  \n",
       "0        27          87        3.00  \n",
       "1        92          90        9.17  \n",
       "2        32           0        2.19  \n",
       "3        79          59        1.01  \n",
       "4        74          90       14.99  "
      ]
     },
     "execution_count": 259,
     "metadata": {},
     "output_type": "execute_result"
    }
   ],
   "source": [
    "load_city_df.head()"
   ]
  },
  {
   "cell_type": "code",
   "execution_count": null,
   "metadata": {},
   "outputs": [],
   "source": [
    "C:\\Users\\Donne\\OneDrive\\UT_Data_Analytics\\Analysis Projects\\"
   ]
  },
  {
   "cell_type": "markdown",
   "metadata": {
    "execution": {
     "iopub.execute_input": "2020-11-03T01:36:23.463543Z",
     "iopub.status.busy": "2020-11-03T01:36:23.463543Z",
     "iopub.status.idle": "2020-11-03T01:36:23.471522Z",
     "shell.execute_reply": "2020-11-03T01:36:23.470561Z",
     "shell.execute_reply.started": "2020-11-03T01:36:23.463543Z"
    }
   },
   "source": [
    "first should work, need to fix path issues, second has worked with raw string 'r'<br>\n",
    "ref: https://stackoverflow.com/questions/37400974/unicode-error-unicodeescape-codec-cant-decode-bytes-in-position-2-3-trunca"
   ]
  },
  {
   "cell_type": "code",
   "execution_count": null,
   "metadata": {},
   "outputs": [],
   "source": [
    "# Export the City_Data into a CSV.\n",
    "city_data_df.to_csv(r\"weather_data\\cities.csv\", index_label=\"City_ID\")"
   ]
  },
  {
   "cell_type": "code",
   "execution_count": 229,
   "metadata": {
    "execution": {
     "iopub.execute_input": "2020-11-03T01:31:40.889046Z",
     "iopub.status.busy": "2020-11-03T01:31:40.889046Z",
     "iopub.status.idle": "2020-11-03T01:31:40.900053Z",
     "shell.execute_reply": "2020-11-03T01:31:40.899534Z",
     "shell.execute_reply.started": "2020-11-03T01:31:40.889046Z"
    }
   },
   "outputs": [],
   "source": [
    "part = r'C:\\Users\\Donne\\OneDrive\\UT_Data_Analytics\\Analysis Projects\\Mod6_World_Weather_Analysis\\World_Weather_Analysis\\weather_data\\cities.csv'\n",
    "city_data_df.to_csv(part, index_label=\"City_ID\")"
   ]
  },
  {
   "cell_type": "markdown",
   "metadata": {},
   "source": [
    "## Exploratory Analysis with Visualization"
   ]
  },
  {
   "cell_type": "code",
   "execution_count": 239,
   "metadata": {
    "execution": {
     "iopub.execute_input": "2020-11-03T04:07:47.584393Z",
     "iopub.status.busy": "2020-11-03T04:07:47.584393Z",
     "iopub.status.idle": "2020-11-03T04:07:47.617402Z",
     "shell.execute_reply": "2020-11-03T04:07:47.616403Z",
     "shell.execute_reply.started": "2020-11-03T04:07:47.584393Z"
    }
   },
   "outputs": [],
   "source": [
    "# Extract relevant fields from the DataFrame for plotting.\n",
    "lats = city_data_df[\"Lat\"]\n",
    "max_temps = city_data_df[\"Max Temp\"]\n",
    "humidity = city_data_df[\"Humidity\"]\n",
    "cloudiness = city_data_df[\"Cloudiness\"]\n",
    "wind_speed = city_data_df[\"Wind Speed\"]"
   ]
  },
  {
   "cell_type": "code",
   "execution_count": 240,
   "metadata": {
    "execution": {
     "iopub.execute_input": "2020-11-03T04:12:00.236389Z",
     "iopub.status.busy": "2020-11-03T04:12:00.236389Z",
     "iopub.status.idle": "2020-11-03T04:12:00.241894Z",
     "shell.execute_reply": "2020-11-03T04:12:00.241376Z",
     "shell.execute_reply.started": "2020-11-03T04:12:00.236389Z"
    }
   },
   "outputs": [
    {
     "data": {
      "text/plain": [
       "'11/02/20'"
      ]
     },
     "execution_count": 240,
     "metadata": {},
     "output_type": "execute_result"
    }
   ],
   "source": [
    "# Import the time module.\n",
    "import time\n",
    "# Get today's date in seconds.\n",
    "today = time.strftime(\"%x\")\n",
    "today"
   ]
  },
  {
   "cell_type": "code",
   "execution_count": 271,
   "metadata": {
    "execution": {
     "iopub.execute_input": "2020-11-03T04:51:22.020543Z",
     "iopub.status.busy": "2020-11-03T04:51:22.020543Z",
     "iopub.status.idle": "2020-11-03T04:51:22.178681Z",
     "shell.execute_reply": "2020-11-03T04:51:22.177681Z",
     "shell.execute_reply.started": "2020-11-03T04:51:22.020543Z"
    }
   },
   "outputs": [
    {
     "data": {
      "image/png": "[encoded data removed]",
      "text/plain": [
       "<Figure size 720x576 with 1 Axes>"
      ]
     },
     "metadata": {
      "needs_background": "light"
     },
     "output_type": "display_data"
    }
   ],
   "source": [
    "# Build the scatter plot for latitude vs. max temperature.\n",
    "plt.figure(figsize=(10,8))\n",
    "plt.scatter(lats,\n",
    "            max_temps,\n",
    "            edgecolor=\"black\", linewidths=1, marker=\"o\",\n",
    "            alpha=0.8, label=\"Cities\")\n",
    "\n",
    "# Incorporate the other graph properties.\n",
    "plt.title(f\"City Latitude vs. Max Temperature \"+ time.strftime(\"%x\"))\n",
    "plt.ylabel(\"Max Temperature (F)\")\n",
    "plt.xlabel(\"Latitude\")\n",
    "plt.grid(True)\n",
    "\n",
    "# Save the figure.\n",
    "# plt.savefig(\"Fig1.png\") -- commented out incase of rerunning cell, fig is no saved again \n",
    "\n",
    "# Show plot.\n",
    "plt.show();"
   ]
  },
  {
   "cell_type": "code",
   "execution_count": 270,
   "metadata": {
    "execution": {
     "iopub.execute_input": "2020-11-03T04:51:01.126663Z",
     "iopub.status.busy": "2020-11-03T04:51:01.126663Z",
     "iopub.status.idle": "2020-11-03T04:51:01.305310Z",
     "shell.execute_reply": "2020-11-03T04:51:01.305310Z",
     "shell.execute_reply.started": "2020-11-03T04:51:01.126663Z"
    }
   },
   "outputs": [
    {
     "data": {
      "image/png": "[encoded data removed]",
      "text/plain": [
       "<Figure size 720x576 with 1 Axes>"
      ]
     },
     "metadata": {
      "needs_background": "light"
     },
     "output_type": "display_data"
    }
   ],
   "source": [
    "# Build the scatter plots for latitude vs. humidity.\n",
    "plt.figure(figsize=(10,8))\n",
    "plt.scatter(lats,\n",
    "            humidity,\n",
    "            edgecolor=\"black\", linewidths=1, marker=\"o\",\n",
    "            alpha=0.8, label=\"Cities\")\n",
    "\n",
    "# Incorporate the other graph properties.\n",
    "plt.title(f\"City Latitude vs. Humidity \"+ time.strftime(\"%x\"))\n",
    "plt.ylabel(\"Humidity (%)\")\n",
    "plt.xlabel(\"Latitude\")\n",
    "plt.grid(True)\n",
    "# Save the figure.\n",
    "#plt.savefig(\"Fig2.png\")\n",
    "# Show plot.\n",
    "plt.show();"
   ]
  },
  {
   "cell_type": "code",
   "execution_count": 273,
   "metadata": {
    "execution": {
     "iopub.execute_input": "2020-11-03T04:57:24.435993Z",
     "iopub.status.busy": "2020-11-03T04:57:24.434995Z",
     "iopub.status.idle": "2020-11-03T04:57:24.602573Z",
     "shell.execute_reply": "2020-11-03T04:57:24.602573Z",
     "shell.execute_reply.started": "2020-11-03T04:57:24.435993Z"
    }
   },
   "outputs": [
    {
     "data": {
      "image/png": "[encoded data removed]",
      "text/plain": [
       "<Figure size 720x576 with 1 Axes>"
      ]
     },
     "metadata": {
      "needs_background": "light"
     },
     "output_type": "display_data"
    }
   ],
   "source": [
    "# Build the scatter plots for latitude vs. cloudiness.\n",
    "plt.figure(figsize=(10,8))\n",
    "plt.scatter(lats,\n",
    "            cloudiness,\n",
    "            edgecolor=\"black\", linewidths=1, marker=\"o\",\n",
    "            alpha=0.8, label=\"Cities\")\n",
    "\n",
    "# Incorporate the other graph properties.\n",
    "plt.title(f\"City Latitude vs. Cloudiness (%) \"+ time.strftime(\"%x\"))\n",
    "plt.ylabel(\"Cloudiness (%)\")\n",
    "plt.xlabel(\"Latitude\")\n",
    "plt.grid(True)\n",
    "# Save the figure.\n",
    "#plt.savefig(\"Fig3.png\")\n",
    "# Show plot.\n",
    "plt.show();"
   ]
  },
  {
   "cell_type": "code",
   "execution_count": 276,
   "metadata": {
    "execution": {
     "iopub.execute_input": "2020-11-03T05:04:53.797092Z",
     "iopub.status.busy": "2020-11-03T05:04:53.796094Z",
     "iopub.status.idle": "2020-11-03T05:04:53.934280Z",
     "shell.execute_reply": "2020-11-03T05:04:53.934280Z",
     "shell.execute_reply.started": "2020-11-03T05:04:53.797092Z"
    }
   },
   "outputs": [
    {
     "data": {
      "image/png": "[encoded data removed]",
      "text/plain": [
       "<Figure size 720x576 with 1 Axes>"
      ]
     },
     "metadata": {
      "needs_background": "light"
     },
     "output_type": "display_data"
    }
   ],
   "source": [
    "# Build the scatter plots for latitude vs. wind speed.\n",
    "plt.figure(figsize=(10,8))\n",
    "plt.scatter(lats,\n",
    "            wind_speed,\n",
    "            edgecolor=\"black\", linewidths=1, marker=\"o\",\n",
    "            alpha=0.8, label=\"Cities\")\n",
    "\n",
    "# Incorporate the other graph properties.\n",
    "plt.title(f\"City Latitude vs. Wind Speed \"+ time.strftime(\"%x\"))\n",
    "plt.ylabel(\"Wind Speed (mph)\")\n",
    "plt.xlabel(\"Latitude\")\n",
    "plt.grid(True)\n",
    "# Save the figure.\n",
    "#plt.savefig(\"Fig4.png\")\n",
    "# Show plot.\n",
    "plt.show();"
   ]
  },
  {
   "cell_type": "markdown",
   "metadata": {
    "execution": {
     "iopub.execute_input": "2020-11-04T03:14:42.657449Z",
     "iopub.status.busy": "2020-11-04T03:14:42.656452Z",
     "iopub.status.idle": "2020-11-04T03:14:42.662435Z",
     "shell.execute_reply": "2020-11-04T03:14:42.661438Z",
     "shell.execute_reply.started": "2020-11-04T03:14:42.657449Z"
    }
   },
   "source": [
    "## Finding Correlation "
   ]
  },
  {
   "cell_type": "code",
   "execution_count": 333,
   "metadata": {
    "execution": {
     "iopub.execute_input": "2020-11-03T23:41:30.399343Z",
     "iopub.status.busy": "2020-11-03T23:41:30.399343Z",
     "iopub.status.idle": "2020-11-03T23:41:30.403336Z",
     "shell.execute_reply": "2020-11-03T23:41:30.403336Z",
     "shell.execute_reply.started": "2020-11-03T23:41:30.399343Z"
    }
   },
   "outputs": [],
   "source": [
    "from scipy.stats import linregress "
   ]
  },
  {
   "cell_type": "code",
   "execution_count": 378,
   "metadata": {
    "execution": {
     "iopub.execute_input": "2020-11-04T03:05:03.245893Z",
     "iopub.status.busy": "2020-11-04T03:05:03.245893Z",
     "iopub.status.idle": "2020-11-04T03:05:03.251895Z",
     "shell.execute_reply": "2020-11-04T03:05:03.251895Z",
     "shell.execute_reply.started": "2020-11-04T03:05:03.245893Z"
    }
   },
   "outputs": [],
   "source": [
    "# Create a function to create perform linear regression on the weather data\n",
    "# and plot a regression line and the equation with the data.\n",
    "def plot_linear_regression(x_values, y_values, title, y_label, text_coordinates):\n",
    "\n",
    "    # Run regression on hemisphere weather data.\n",
    "    (slope, intercept, r_value, p_value, std_err) = linregress(x_values, y_values)\n",
    "\n",
    "    # Calculate the regression line \"y values\" from the slope and intercept.\n",
    "    regress_values = x_values * slope + intercept\n",
    "    # Get the equation of the line.\n",
    "    line_eq = \"y = \" + str(round(slope,2)) + \"x + \" + str(round(intercept,2))\n",
    "    # Create a scatter plot and plot the regression line.\n",
    "    plt.figure(figsize=(9,6))\n",
    "    plt.scatter(x_values,y_values)\n",
    "    plt.title(title, fontsize=15)\n",
    "    plt.plot(x_values,regress_values,\"r\")\n",
    "    # Annotate the text for the line equation.\n",
    "    plt.annotate(line_eq, text_coordinates, fontsize=15, color=\"red\")\n",
    "    plt.xlabel('Latitude')\n",
    "    plt.ylabel(y_label)\n",
    "    plt.show()"
   ]
  },
  {
   "cell_type": "code",
   "execution_count": 280,
   "metadata": {
    "execution": {
     "iopub.execute_input": "2020-11-03T22:52:35.576910Z",
     "iopub.status.busy": "2020-11-03T22:52:35.576910Z",
     "iopub.status.idle": "2020-11-03T22:52:35.609849Z",
     "shell.execute_reply": "2020-11-03T22:52:35.609849Z",
     "shell.execute_reply.started": "2020-11-03T22:52:35.576910Z"
    }
   },
   "outputs": [],
   "source": [
    "# Create Northern and Southern Hemisphere DataFrames.\n",
    "northern_hemi_df = city_data_df.loc[(city_data_df[\"Lat\"] >= 0)]\n",
    "southern_hemi_df = city_data_df.loc[(city_data_df[\"Lat\"] < 0)]"
   ]
  },
  {
   "cell_type": "code",
   "execution_count": 283,
   "metadata": {
    "execution": {
     "iopub.execute_input": "2020-11-03T22:59:02.340604Z",
     "iopub.status.busy": "2020-11-03T22:59:02.339569Z",
     "iopub.status.idle": "2020-11-03T22:59:02.357096Z",
     "shell.execute_reply": "2020-11-03T22:59:02.357096Z",
     "shell.execute_reply.started": "2020-11-03T22:59:02.340604Z"
    }
   },
   "outputs": [
    {
     "data": {
      "text/html": [
       "<div>\n",
       "<style scoped>\n",
       "    .dataframe tbody tr th:only-of-type {\n",
       "        vertical-align: middle;\n",
       "    }\n",
       "\n",
       "    .dataframe tbody tr th {\n",
       "        vertical-align: top;\n",
       "    }\n",
       "\n",
       "    .dataframe thead th {\n",
       "        text-align: right;\n",
       "    }\n",
       "</style>\n",
       "<table border=\"1\" class=\"dataframe\">\n",
       "  <thead>\n",
       "    <tr style=\"text-align: right;\">\n",
       "      <th></th>\n",
       "      <th>City</th>\n",
       "      <th>Country</th>\n",
       "      <th>Date</th>\n",
       "      <th>Lat</th>\n",
       "      <th>Lng</th>\n",
       "      <th>Max Temp</th>\n",
       "      <th>Humidity</th>\n",
       "      <th>Cloudiness</th>\n",
       "      <th>Wind Speed</th>\n",
       "    </tr>\n",
       "  </thead>\n",
       "  <tbody>\n",
       "    <tr>\n",
       "      <th>1</th>\n",
       "      <td>Yellowknife</td>\n",
       "      <td>CA</td>\n",
       "      <td>2020-11-03 00:22:48</td>\n",
       "      <td>62.46</td>\n",
       "      <td>-114.35</td>\n",
       "      <td>10.99</td>\n",
       "      <td>92</td>\n",
       "      <td>90</td>\n",
       "      <td>9.17</td>\n",
       "    </tr>\n",
       "    <tr>\n",
       "      <th>2</th>\n",
       "      <td>Do Gonbadan</td>\n",
       "      <td>IR</td>\n",
       "      <td>2020-11-03 00:27:28</td>\n",
       "      <td>30.36</td>\n",
       "      <td>50.80</td>\n",
       "      <td>53.60</td>\n",
       "      <td>32</td>\n",
       "      <td>0</td>\n",
       "      <td>2.19</td>\n",
       "    </tr>\n",
       "  </tbody>\n",
       "</table>\n",
       "</div>"
      ],
      "text/plain": [
       "          City Country                 Date    Lat     Lng  Max Temp  \\\n",
       "1  Yellowknife      CA  2020-11-03 00:22:48  62.46 -114.35     10.99   \n",
       "2  Do Gonbadan      IR  2020-11-03 00:27:28  30.36   50.80     53.60   \n",
       "\n",
       "   Humidity  Cloudiness  Wind Speed  \n",
       "1        92          90        9.17  \n",
       "2        32           0        2.19  "
      ]
     },
     "execution_count": 283,
     "metadata": {},
     "output_type": "execute_result"
    },
    {
     "data": {
      "text/html": [
       "<div>\n",
       "<style scoped>\n",
       "    .dataframe tbody tr th:only-of-type {\n",
       "        vertical-align: middle;\n",
       "    }\n",
       "\n",
       "    .dataframe tbody tr th {\n",
       "        vertical-align: top;\n",
       "    }\n",
       "\n",
       "    .dataframe thead th {\n",
       "        text-align: right;\n",
       "    }\n",
       "</style>\n",
       "<table border=\"1\" class=\"dataframe\">\n",
       "  <thead>\n",
       "    <tr style=\"text-align: right;\">\n",
       "      <th></th>\n",
       "      <th>City</th>\n",
       "      <th>Country</th>\n",
       "      <th>Date</th>\n",
       "      <th>Lat</th>\n",
       "      <th>Lng</th>\n",
       "      <th>Max Temp</th>\n",
       "      <th>Humidity</th>\n",
       "      <th>Cloudiness</th>\n",
       "      <th>Wind Speed</th>\n",
       "    </tr>\n",
       "  </thead>\n",
       "  <tbody>\n",
       "    <tr>\n",
       "      <th>0</th>\n",
       "      <td>New Norfolk</td>\n",
       "      <td>AU</td>\n",
       "      <td>2020-11-03 00:25:28</td>\n",
       "      <td>-42.78</td>\n",
       "      <td>147.06</td>\n",
       "      <td>79.00</td>\n",
       "      <td>27</td>\n",
       "      <td>87</td>\n",
       "      <td>3.00</td>\n",
       "    </tr>\n",
       "    <tr>\n",
       "      <th>5</th>\n",
       "      <td>Tual</td>\n",
       "      <td>ID</td>\n",
       "      <td>2020-11-03 00:27:28</td>\n",
       "      <td>-5.67</td>\n",
       "      <td>132.75</td>\n",
       "      <td>82.63</td>\n",
       "      <td>77</td>\n",
       "      <td>99</td>\n",
       "      <td>10.11</td>\n",
       "    </tr>\n",
       "  </tbody>\n",
       "</table>\n",
       "</div>"
      ],
      "text/plain": [
       "          City Country                 Date    Lat     Lng  Max Temp  \\\n",
       "0  New Norfolk      AU  2020-11-03 00:25:28 -42.78  147.06     79.00   \n",
       "5         Tual      ID  2020-11-03 00:27:28  -5.67  132.75     82.63   \n",
       "\n",
       "   Humidity  Cloudiness  Wind Speed  \n",
       "0        27          87        3.00  \n",
       "5        77          99       10.11  "
      ]
     },
     "execution_count": 283,
     "metadata": {},
     "output_type": "execute_result"
    }
   ],
   "source": [
    "northern_hemi_df.head(2)\n",
    "southern_hemi_df.head(2)"
   ]
  },
  {
   "cell_type": "code",
   "execution_count": 344,
   "metadata": {
    "execution": {
     "iopub.execute_input": "2020-11-03T23:52:09.034693Z",
     "iopub.status.busy": "2020-11-03T23:52:09.033695Z",
     "iopub.status.idle": "2020-11-03T23:52:09.042668Z",
     "shell.execute_reply": "2020-11-03T23:52:09.042668Z",
     "shell.execute_reply.started": "2020-11-03T23:52:09.034693Z"
    }
   },
   "outputs": [
    {
     "name": "stdout",
     "output_type": "stream",
     "text": [
      "0   -42.78\n",
      "5    -5.67\n",
      "6   -28.45\n",
      "7   -46.19\n",
      "9   -16.48\n",
      "Name: Lat, dtype: float64 0    79.00\n",
      "5    82.63\n",
      "6    73.40\n",
      "7    61.00\n",
      "9    79.70\n",
      "Name: Max Temp, dtype: float64\n"
     ]
    }
   ],
   "source": [
    "# Linear regression on the Northern Hemisphere\n",
    "x_values_n = northern_hemi_df[\"Lat\"]\n",
    "y_values_n = northern_hemi_df[\"Max Temp\"]\n",
    "print(x_values[0:5],y_values[0:5])"
   ]
  },
  {
   "cell_type": "code",
   "execution_count": 359,
   "metadata": {
    "execution": {
     "iopub.execute_input": "2020-11-03T23:59:11.507113Z",
     "iopub.status.busy": "2020-11-03T23:59:11.507113Z",
     "iopub.status.idle": "2020-11-03T23:59:11.513097Z",
     "shell.execute_reply": "2020-11-03T23:59:11.512106Z",
     "shell.execute_reply.started": "2020-11-03T23:59:11.507113Z"
    }
   },
   "outputs": [
    {
     "data": {
      "text/plain": [
       "-0.8218990942369856"
      ]
     },
     "execution_count": 359,
     "metadata": {},
     "output_type": "execute_result"
    }
   ],
   "source": [
    "_,_,rvalue,_,_ = linregress(x_values_n,y_values_n)\n",
    "rvalue"
   ]
  },
  {
   "cell_type": "code",
   "execution_count": 377,
   "metadata": {
    "execution": {
     "iopub.execute_input": "2020-11-04T03:04:48.257136Z",
     "iopub.status.busy": "2020-11-04T03:04:48.257136Z",
     "iopub.status.idle": "2020-11-04T03:04:48.417706Z",
     "shell.execute_reply": "2020-11-04T03:04:48.417706Z",
     "shell.execute_reply.started": "2020-11-04T03:04:48.257136Z"
    }
   },
   "outputs": [
    {
     "data": {
      "image/png": "[encoded data removed]",
      "text/plain": [
       "<Figure size 648x432 with 1 Axes>"
      ]
     },
     "metadata": {
      "needs_background": "light"
     },
     "output_type": "display_data"
    }
   ],
   "source": [
    "plot_linear_regression(x_values_n, y_values_n,\n",
    "                       '''Linear Regression on the Northern Hemisphere for Maximum Temperature''', 'Max Temp',(0,0))\n",
    "                "
   ]
  },
  {
   "cell_type": "code",
   "execution_count": 360,
   "metadata": {
    "execution": {
     "iopub.execute_input": "2020-11-04T00:03:52.094877Z",
     "iopub.status.busy": "2020-11-04T00:03:52.094877Z",
     "iopub.status.idle": "2020-11-04T00:03:52.100425Z",
     "shell.execute_reply": "2020-11-04T00:03:52.100425Z",
     "shell.execute_reply.started": "2020-11-04T00:03:52.094877Z"
    }
   },
   "outputs": [
    {
     "data": {
      "text/plain": [
       "0.48847827758840123"
      ]
     },
     "execution_count": 360,
     "metadata": {},
     "output_type": "execute_result"
    }
   ],
   "source": [
    "_,_,rvalue,_,_ = linregress(x_values_s,y_values_s)\n",
    "rvalue"
   ]
  },
  {
   "cell_type": "code",
   "execution_count": 388,
   "metadata": {
    "execution": {
     "iopub.execute_input": "2020-11-04T03:06:47.302305Z",
     "iopub.status.busy": "2020-11-04T03:06:47.301281Z",
     "iopub.status.idle": "2020-11-04T03:06:47.442440Z",
     "shell.execute_reply": "2020-11-04T03:06:47.442440Z",
     "shell.execute_reply.started": "2020-11-04T03:06:47.302305Z"
    }
   },
   "outputs": [
    {
     "data": {
      "image/png": "[encoded data removed]",
      "text/plain": [
       "<Figure size 648x432 with 1 Axes>"
      ]
     },
     "metadata": {
      "needs_background": "light"
     },
     "output_type": "display_data"
    }
   ],
   "source": [
    "# Linear regression on the Southern Hemisphere\n",
    "x_values_s = southern_hemi_df[\"Lat\"]\n",
    "y_values_s = southern_hemi_df[\"Max Temp\"]\n",
    "# Call the function.\n",
    "plot_linear_regression(x_values_s, y_values_s,\n",
    "                       '''Linear Regression on the Southern Hemisphere for Maximum Temperature''', 'Max Temp',(-50,90))\n",
    "                        "
   ]
  },
  {
   "cell_type": "code",
   "execution_count": 394,
   "metadata": {
    "execution": {
     "iopub.execute_input": "2020-11-04T03:09:10.965313Z",
     "iopub.status.busy": "2020-11-04T03:09:10.964315Z",
     "iopub.status.idle": "2020-11-04T03:09:11.115468Z",
     "shell.execute_reply": "2020-11-04T03:09:11.115468Z",
     "shell.execute_reply.started": "2020-11-04T03:09:10.965313Z"
    }
   },
   "outputs": [
    {
     "data": {
      "image/png": "[encoded data removed]",
      "text/plain": [
       "<Figure size 648x432 with 1 Axes>"
      ]
     },
     "metadata": {
      "needs_background": "light"
     },
     "output_type": "display_data"
    }
   ],
   "source": [
    "# Linear regression on the Northern Hemisphere\n",
    "x_values_nh = northern_hemi_df[\"Lat\"]\n",
    "y_values_nh = northern_hemi_df[\"Humidity\"]\n",
    "# Call the function.\n",
    "plot_linear_regression(x_values_nh, y_values_nh,\n",
    "                       '''Linear Regression on the Northern Hemisphere for % Humidity''', '% Humidity',(0,0))\n",
    "                        "
   ]
  },
  {
   "cell_type": "code",
   "execution_count": 397,
   "metadata": {
    "execution": {
     "iopub.execute_input": "2020-11-04T03:10:30.161141Z",
     "iopub.status.busy": "2020-11-04T03:10:30.160144Z",
     "iopub.status.idle": "2020-11-04T03:10:30.166128Z",
     "shell.execute_reply": "2020-11-04T03:10:30.166128Z",
     "shell.execute_reply.started": "2020-11-04T03:10:30.161141Z"
    }
   },
   "outputs": [
    {
     "data": {
      "text/plain": [
       "LinregressResult(slope=0.23182434833598298, intercept=63.012718814739486, rvalue=0.21341926134669398, pvalue=1.4438184895563234e-05, stderr=0.0527973163959791)"
      ]
     },
     "execution_count": 397,
     "metadata": {},
     "output_type": "execute_result"
    }
   ],
   "source": [
    "linregress(x_values_nh,y_values_nh)"
   ]
  },
  {
   "cell_type": "code",
   "execution_count": 392,
   "metadata": {
    "execution": {
     "iopub.execute_input": "2020-11-04T03:08:41.317924Z",
     "iopub.status.busy": "2020-11-04T03:08:41.316893Z",
     "iopub.status.idle": "2020-11-04T03:08:41.445564Z",
     "shell.execute_reply": "2020-11-04T03:08:41.445564Z",
     "shell.execute_reply.started": "2020-11-04T03:08:41.317924Z"
    }
   },
   "outputs": [
    {
     "data": {
      "image/png": "[encoded data removed]",
      "text/plain": [
       "<Figure size 648x432 with 1 Axes>"
      ]
     },
     "metadata": {
      "needs_background": "light"
     },
     "output_type": "display_data"
    }
   ],
   "source": [
    "# Linear regression on the Southern Hemisphere\n",
    "x_values_sh = southern_hemi_df[\"Lat\"]\n",
    "y_values_sh = southern_hemi_df[\"Humidity\"]\n",
    "# Call the function.\n",
    "plot_linear_regression(x_values_sh, y_values_sh,\n",
    "                       'Linear Regression on the Southern Hemisphere for % Humidity', '% Humidity',(-55,15))\n",
    "                        "
   ]
  },
  {
   "cell_type": "code",
   "execution_count": 396,
   "metadata": {
    "execution": {
     "iopub.execute_input": "2020-11-04T03:10:05.324426Z",
     "iopub.status.busy": "2020-11-04T03:10:05.324426Z",
     "iopub.status.idle": "2020-11-04T03:10:05.331433Z",
     "shell.execute_reply": "2020-11-04T03:10:05.331433Z",
     "shell.execute_reply.started": "2020-11-04T03:10:05.324426Z"
    }
   },
   "outputs": [
    {
     "data": {
      "text/plain": [
       "LinregressResult(slope=0.42861180819647826, intercept=78.63722137711156, rvalue=0.2756711535306172, pvalue=0.00018769691910702375, stderr=0.11233715815014733)"
      ]
     },
     "execution_count": 396,
     "metadata": {},
     "output_type": "execute_result"
    }
   ],
   "source": [
    "linregress(x_values_sh,y_values_sh)"
   ]
  },
  {
   "cell_type": "code",
   "execution_count": 405,
   "metadata": {
    "execution": {
     "iopub.execute_input": "2020-11-04T03:23:35.277344Z",
     "iopub.status.busy": "2020-11-04T03:23:35.277344Z",
     "iopub.status.idle": "2020-11-04T03:23:35.442423Z",
     "shell.execute_reply": "2020-11-04T03:23:35.442423Z",
     "shell.execute_reply.started": "2020-11-04T03:23:35.277344Z"
    }
   },
   "outputs": [
    {
     "data": {
      "image/png": "[encoded data removed]",
      "text/plain": [
       "<Figure size 648x432 with 1 Axes>"
      ]
     },
     "metadata": {
      "needs_background": "light"
     },
     "output_type": "display_data"
    }
   ],
   "source": [
    "# Linear regression on the Southern Hemisphere\n",
    "x_values_nc= northern_hemi_df[\"Lat\"]\n",
    "y_values_nc= northern_hemi_df[\"Cloudiness\"]\n",
    "# Call the function.\n",
    "plot_linear_regression(x_values, y_values,\n",
    "                       'Linear Regression on the Northern Hemisphere for % Cloudiness', '% Cloudiness',(-50,60))"
   ]
  },
  {
   "cell_type": "code",
   "execution_count": 406,
   "metadata": {
    "execution": {
     "iopub.execute_input": "2020-11-04T03:23:37.806809Z",
     "iopub.status.busy": "2020-11-04T03:23:37.806809Z",
     "iopub.status.idle": "2020-11-04T03:23:37.812793Z",
     "shell.execute_reply": "2020-11-04T03:23:37.812793Z",
     "shell.execute_reply.started": "2020-11-04T03:23:37.806809Z"
    }
   },
   "outputs": [
    {
     "data": {
      "text/plain": [
       "LinregressResult(slope=0.37163946704621287, intercept=37.18979881023837, rvalue=0.1896545155360032, pvalue=0.00012074978689322965, stderr=0.09572238162162777)"
      ]
     },
     "execution_count": 406,
     "metadata": {},
     "output_type": "execute_result"
    }
   ],
   "source": [
    "linregress(x_values_nc,y_values_nc)"
   ]
  },
  {
   "cell_type": "code",
   "execution_count": 403,
   "metadata": {
    "execution": {
     "iopub.execute_input": "2020-11-04T03:22:00.439656Z",
     "iopub.status.busy": "2020-11-04T03:22:00.438660Z",
     "iopub.status.idle": "2020-11-04T03:22:00.606228Z",
     "shell.execute_reply": "2020-11-04T03:22:00.606228Z",
     "shell.execute_reply.started": "2020-11-04T03:22:00.439656Z"
    }
   },
   "outputs": [
    {
     "data": {
      "image/png": "[encoded data removed]",
      "text/plain": [
       "<Figure size 648x432 with 1 Axes>"
      ]
     },
     "metadata": {
      "needs_background": "light"
     },
     "output_type": "display_data"
    }
   ],
   "source": [
    "# Linear regression on the Southern Hemisphere\n",
    "x_values_sc= southern_hemi_df[\"Lat\"]\n",
    "y_values_sc= southern_hemi_df[\"Cloudiness\"]\n",
    "# Call the function.\n",
    "plot_linear_regression(x_values, y_values,\n",
    "                       'Linear Regression on the Southern Hemisphere for % Cloudiness', '% Cloudiness',(-50,60))"
   ]
  },
  {
   "cell_type": "code",
   "execution_count": 404,
   "metadata": {
    "execution": {
     "iopub.execute_input": "2020-11-04T03:22:08.004405Z",
     "iopub.status.busy": "2020-11-04T03:22:08.004405Z",
     "iopub.status.idle": "2020-11-04T03:22:08.010416Z",
     "shell.execute_reply": "2020-11-04T03:22:08.010416Z",
     "shell.execute_reply.started": "2020-11-04T03:22:08.004405Z"
    }
   },
   "outputs": [
    {
     "data": {
      "text/plain": [
       "LinregressResult(slope=0.5902447800631205, intercept=66.75978389516638, rvalue=0.20902214275533523, pvalue=0.004984721784402397, stderr=0.2075642319175092)"
      ]
     },
     "execution_count": 404,
     "metadata": {},
     "output_type": "execute_result"
    }
   ],
   "source": [
    "linregress(x_values_sc,y_values_sc)"
   ]
  },
  {
   "cell_type": "code",
   "execution_count": 409,
   "metadata": {
    "execution": {
     "iopub.execute_input": "2020-11-04T03:32:18.004105Z",
     "iopub.status.busy": "2020-11-04T03:32:18.003106Z",
     "iopub.status.idle": "2020-11-04T03:32:18.171861Z",
     "shell.execute_reply": "2020-11-04T03:32:18.171861Z",
     "shell.execute_reply.started": "2020-11-04T03:32:18.003106Z"
    }
   },
   "outputs": [
    {
     "data": {
      "image/png": "[encoded data removed]",
      "text/plain": [
       "<Figure size 648x432 with 1 Axes>"
      ]
     },
     "metadata": {
      "needs_background": "light"
     },
     "output_type": "display_data"
    }
   ],
   "source": [
    "# Linear regression on the Northern Hemisphere\n",
    "x_values_nw = northern_hemi_df[\"Lat\"]\n",
    "y_values_nw = northern_hemi_df[\"Wind Speed\"]\n",
    "# Call the function.\n",
    "plot_linear_regression(x_values, y_values,\n",
    "                       'Linear Regression on the Northern Hemisphere for Wind Speed', 'Wind Speed',(40,35))\n",
    "                        "
   ]
  },
  {
   "cell_type": "code",
   "execution_count": 410,
   "metadata": {
    "execution": {
     "iopub.execute_input": "2020-11-04T03:32:28.934004Z",
     "iopub.status.busy": "2020-11-04T03:32:28.933007Z",
     "iopub.status.idle": "2020-11-04T03:32:28.939988Z",
     "shell.execute_reply": "2020-11-04T03:32:28.938990Z",
     "shell.execute_reply.started": "2020-11-04T03:32:28.933007Z"
    }
   },
   "outputs": [
    {
     "data": {
      "text/plain": [
       "LinregressResult(slope=0.09594401211087537, intercept=4.67611833457533, rvalue=0.2740148865148759, pvalue=2.0000877663463225e-08, stderr=0.016753445779091117)"
      ]
     },
     "execution_count": 410,
     "metadata": {},
     "output_type": "execute_result"
    }
   ],
   "source": [
    "linregress(x_values_nw,y_values_nw)"
   ]
  },
  {
   "cell_type": "code",
   "execution_count": 413,
   "metadata": {
    "execution": {
     "iopub.execute_input": "2020-11-04T03:33:09.642691Z",
     "iopub.status.busy": "2020-11-04T03:33:09.642691Z",
     "iopub.status.idle": "2020-11-04T03:33:09.815839Z",
     "shell.execute_reply": "2020-11-04T03:33:09.815839Z",
     "shell.execute_reply.started": "2020-11-04T03:33:09.642691Z"
    }
   },
   "outputs": [
    {
     "data": {
      "image/png": "[encoded data removed]",
      "text/plain": [
       "<Figure size 648x432 with 1 Axes>"
      ]
     },
     "metadata": {
      "needs_background": "light"
     },
     "output_type": "display_data"
    }
   ],
   "source": [
    "# Linear regression on the Southern Hemisphere\n",
    "x_values_sw = southern_hemi_df[\"Lat\"]\n",
    "y_values_sw = southern_hemi_df[\"Wind Speed\"]\n",
    "# Call the function.\n",
    "plot_linear_regression(x_values, y_values,\n",
    "                       'Linear Regression on the Southern Hemisphere for Wind Speed', 'Wind Speed',(0,35))\n",
    "                        "
   ]
  },
  {
   "cell_type": "code",
   "execution_count": 414,
   "metadata": {
    "execution": {
     "iopub.execute_input": "2020-11-04T03:33:31.416279Z",
     "iopub.status.busy": "2020-11-04T03:33:31.416279Z",
     "iopub.status.idle": "2020-11-04T03:33:31.450712Z",
     "shell.execute_reply": "2020-11-04T03:33:31.449714Z",
     "shell.execute_reply.started": "2020-11-04T03:33:31.416279Z"
    }
   },
   "outputs": [
    {
     "data": {
      "text/plain": [
       "LinregressResult(slope=-0.12523127660465372, intercept=4.786436162025117, rvalue=-0.3158573824438718, pvalue=1.6543931747145534e-05, stderr=0.028275668132934056)"
      ]
     },
     "execution_count": 414,
     "metadata": {},
     "output_type": "execute_result"
    }
   ],
   "source": [
    "linregress(x_values_sw,y_values_sw)"
   ]
  },
  {
   "cell_type": "markdown",
   "metadata": {},
   "source": [
    "> The correlation between the latitude and wind speed is very low becuase the r-value is less that 0.3 for the Northern hemisphere and less than -4 for the Southern Hemisphere for the plots shown here. Based on the plots, the wind spped is unpredictable due to changing weather patterns that can decrease or increase wind speed."
   ]
  },
  {
   "cell_type": "code",
   "execution_count": 3,
   "metadata": {
    "execution": {
     "iopub.execute_input": "2020-11-04T20:58:52.525242Z",
     "iopub.status.busy": "2020-11-04T20:58:52.524244Z",
     "iopub.status.idle": "2020-11-04T20:58:52.528233Z",
     "shell.execute_reply": "2020-11-04T20:58:52.528233Z",
     "shell.execute_reply.started": "2020-11-04T20:58:52.525242Z"
    }
   },
   "outputs": [],
   "source": [
    "#kernel shut down here and restarted "
   ]
  },
  {
   "cell_type": "markdown",
   "metadata": {},
   "source": [
    "## Google Api mapping"
   ]
  },
  {
   "cell_type": "code",
   "execution_count": 1,
   "metadata": {
    "execution": {
     "iopub.execute_input": "2020-11-04T22:23:58.629257Z",
     "iopub.status.busy": "2020-11-04T22:23:58.628244Z",
     "iopub.status.idle": "2020-11-04T22:23:58.797251Z",
     "shell.execute_reply": "2020-11-04T22:23:58.797251Z",
     "shell.execute_reply.started": "2020-11-04T22:23:58.629257Z"
    }
   },
   "outputs": [],
   "source": [
    "# Import the dependencies.\n",
    "import pandas as pd\n",
    "import gmaps\n",
    "import requests\n",
    "# Import the API key.\n",
    "from config import g_key"
   ]
  },
  {
   "cell_type": "code",
   "execution_count": 2,
   "metadata": {
    "execution": {
     "iopub.execute_input": "2020-11-04T22:23:59.084483Z",
     "iopub.status.busy": "2020-11-04T22:23:59.083485Z",
     "iopub.status.idle": "2020-11-04T22:23:59.109417Z",
     "shell.execute_reply": "2020-11-04T22:23:59.108448Z",
     "shell.execute_reply.started": "2020-11-04T22:23:59.084483Z"
    }
   },
   "outputs": [
    {
     "data": {
      "text/html": [
       "<div>\n",
       "<style scoped>\n",
       "    .dataframe tbody tr th:only-of-type {\n",
       "        vertical-align: middle;\n",
       "    }\n",
       "\n",
       "    .dataframe tbody tr th {\n",
       "        vertical-align: top;\n",
       "    }\n",
       "\n",
       "    .dataframe thead th {\n",
       "        text-align: right;\n",
       "    }\n",
       "</style>\n",
       "<table border=\"1\" class=\"dataframe\">\n",
       "  <thead>\n",
       "    <tr style=\"text-align: right;\">\n",
       "      <th></th>\n",
       "      <th>City_ID</th>\n",
       "      <th>City</th>\n",
       "      <th>Country</th>\n",
       "      <th>Date</th>\n",
       "      <th>Lat</th>\n",
       "      <th>Lng</th>\n",
       "      <th>Max Temp</th>\n",
       "      <th>Humidity</th>\n",
       "      <th>Cloudiness</th>\n",
       "      <th>Wind Speed</th>\n",
       "    </tr>\n",
       "  </thead>\n",
       "  <tbody>\n",
       "    <tr>\n",
       "      <th>0</th>\n",
       "      <td>0</td>\n",
       "      <td>New Norfolk</td>\n",
       "      <td>AU</td>\n",
       "      <td>2020-11-03 00:25:28</td>\n",
       "      <td>-42.78</td>\n",
       "      <td>147.06</td>\n",
       "      <td>79.00</td>\n",
       "      <td>27</td>\n",
       "      <td>87</td>\n",
       "      <td>3.00</td>\n",
       "    </tr>\n",
       "    <tr>\n",
       "      <th>1</th>\n",
       "      <td>1</td>\n",
       "      <td>Yellowknife</td>\n",
       "      <td>CA</td>\n",
       "      <td>2020-11-03 00:22:48</td>\n",
       "      <td>62.46</td>\n",
       "      <td>-114.35</td>\n",
       "      <td>10.99</td>\n",
       "      <td>92</td>\n",
       "      <td>90</td>\n",
       "      <td>9.17</td>\n",
       "    </tr>\n",
       "    <tr>\n",
       "      <th>2</th>\n",
       "      <td>2</td>\n",
       "      <td>Do Gonbadan</td>\n",
       "      <td>IR</td>\n",
       "      <td>2020-11-03 00:27:28</td>\n",
       "      <td>30.36</td>\n",
       "      <td>50.80</td>\n",
       "      <td>53.60</td>\n",
       "      <td>32</td>\n",
       "      <td>0</td>\n",
       "      <td>2.19</td>\n",
       "    </tr>\n",
       "    <tr>\n",
       "      <th>3</th>\n",
       "      <td>3</td>\n",
       "      <td>Boizenburg</td>\n",
       "      <td>DE</td>\n",
       "      <td>2020-11-03 00:27:28</td>\n",
       "      <td>53.38</td>\n",
       "      <td>10.72</td>\n",
       "      <td>53.01</td>\n",
       "      <td>79</td>\n",
       "      <td>59</td>\n",
       "      <td>1.01</td>\n",
       "    </tr>\n",
       "    <tr>\n",
       "      <th>4</th>\n",
       "      <td>4</td>\n",
       "      <td>Kapaa</td>\n",
       "      <td>US</td>\n",
       "      <td>2020-11-03 00:24:11</td>\n",
       "      <td>22.08</td>\n",
       "      <td>-159.32</td>\n",
       "      <td>82.40</td>\n",
       "      <td>74</td>\n",
       "      <td>90</td>\n",
       "      <td>14.99</td>\n",
       "    </tr>\n",
       "  </tbody>\n",
       "</table>\n",
       "</div>"
      ],
      "text/plain": [
       "   City_ID         City Country                 Date    Lat     Lng  Max Temp  \\\n",
       "0        0  New Norfolk      AU  2020-11-03 00:25:28 -42.78  147.06     79.00   \n",
       "1        1  Yellowknife      CA  2020-11-03 00:22:48  62.46 -114.35     10.99   \n",
       "2        2  Do Gonbadan      IR  2020-11-03 00:27:28  30.36   50.80     53.60   \n",
       "3        3   Boizenburg      DE  2020-11-03 00:27:28  53.38   10.72     53.01   \n",
       "4        4        Kapaa      US  2020-11-03 00:24:11  22.08 -159.32     82.40   \n",
       "\n",
       "   Humidity  Cloudiness  Wind Speed  \n",
       "0        27          87        3.00  \n",
       "1        92          90        9.17  \n",
       "2        32           0        2.19  \n",
       "3        79          59        1.01  \n",
       "4        74          90       14.99  "
      ]
     },
     "execution_count": 2,
     "metadata": {},
     "output_type": "execute_result"
    }
   ],
   "source": [
    "# Store the CSV you saved created in part one into a DataFrame.\n",
    "city_data_df = pd.read_csv(\"weather_data/cities.csv\")\n",
    "city_data_df.head()"
   ]
  },
  {
   "cell_type": "markdown",
   "metadata": {},
   "source": [
    ">One caveat to using gmaps: The data we use for any mapping must be either an integer or a floating-point decimal number. Let's check the data types for the columns of our DataFrame.\n"
   ]
  },
  {
   "cell_type": "code",
   "execution_count": 3,
   "metadata": {
    "execution": {
     "iopub.execute_input": "2020-11-04T22:24:01.664464Z",
     "iopub.status.busy": "2020-11-04T22:24:01.663467Z",
     "iopub.status.idle": "2020-11-04T22:24:01.671445Z",
     "shell.execute_reply": "2020-11-04T22:24:01.670448Z",
     "shell.execute_reply.started": "2020-11-04T22:24:01.664464Z"
    }
   },
   "outputs": [
    {
     "data": {
      "text/plain": [
       "City_ID         int64\n",
       "City           object\n",
       "Country        object\n",
       "Date           object\n",
       "Lat           float64\n",
       "Lng           float64\n",
       "Max Temp      float64\n",
       "Humidity        int64\n",
       "Cloudiness      int64\n",
       "Wind Speed    float64\n",
       "dtype: object"
      ]
     },
     "execution_count": 3,
     "metadata": {},
     "output_type": "execute_result"
    }
   ],
   "source": [
    "city_data_df.dtypes"
   ]
  },
  {
   "cell_type": "code",
   "execution_count": 4,
   "metadata": {
    "execution": {
     "iopub.execute_input": "2020-11-04T22:24:02.178883Z",
     "iopub.status.busy": "2020-11-04T22:24:02.178883Z",
     "iopub.status.idle": "2020-11-04T22:24:02.183870Z",
     "shell.execute_reply": "2020-11-04T22:24:02.182872Z",
     "shell.execute_reply.started": "2020-11-04T22:24:02.178883Z"
    }
   },
   "outputs": [],
   "source": [
    "# Configure gmaps to use your Google API key.\n",
    "gmaps.configure(api_key=g_key)"
   ]
  },
  {
   "cell_type": "code",
   "execution_count": 5,
   "metadata": {
    "execution": {
     "iopub.execute_input": "2020-11-04T22:24:02.849465Z",
     "iopub.status.busy": "2020-11-04T22:24:02.849465Z",
     "iopub.status.idle": "2020-11-04T22:24:02.867418Z",
     "shell.execute_reply": "2020-11-04T22:24:02.866420Z",
     "shell.execute_reply.started": "2020-11-04T22:24:02.849465Z"
    }
   },
   "outputs": [
    {
     "data": {
      "text/html": [
       "<div>\n",
       "<style scoped>\n",
       "    .dataframe tbody tr th:only-of-type {\n",
       "        vertical-align: middle;\n",
       "    }\n",
       "\n",
       "    .dataframe tbody tr th {\n",
       "        vertical-align: top;\n",
       "    }\n",
       "\n",
       "    .dataframe thead th {\n",
       "        text-align: right;\n",
       "    }\n",
       "</style>\n",
       "<table border=\"1\" class=\"dataframe\">\n",
       "  <thead>\n",
       "    <tr style=\"text-align: right;\">\n",
       "      <th></th>\n",
       "      <th>City_ID</th>\n",
       "      <th>City</th>\n",
       "      <th>Country</th>\n",
       "      <th>Date</th>\n",
       "      <th>Lat</th>\n",
       "      <th>Lng</th>\n",
       "      <th>Max Temp</th>\n",
       "      <th>Humidity</th>\n",
       "      <th>Cloudiness</th>\n",
       "      <th>Wind Speed</th>\n",
       "    </tr>\n",
       "  </thead>\n",
       "  <tbody>\n",
       "    <tr>\n",
       "      <th>0</th>\n",
       "      <td>0</td>\n",
       "      <td>New Norfolk</td>\n",
       "      <td>AU</td>\n",
       "      <td>2020-11-03 00:25:28</td>\n",
       "      <td>-42.78</td>\n",
       "      <td>147.06</td>\n",
       "      <td>79.00</td>\n",
       "      <td>27</td>\n",
       "      <td>87</td>\n",
       "      <td>3.00</td>\n",
       "    </tr>\n",
       "    <tr>\n",
       "      <th>1</th>\n",
       "      <td>1</td>\n",
       "      <td>Yellowknife</td>\n",
       "      <td>CA</td>\n",
       "      <td>2020-11-03 00:22:48</td>\n",
       "      <td>62.46</td>\n",
       "      <td>-114.35</td>\n",
       "      <td>10.99</td>\n",
       "      <td>92</td>\n",
       "      <td>90</td>\n",
       "      <td>9.17</td>\n",
       "    </tr>\n",
       "    <tr>\n",
       "      <th>2</th>\n",
       "      <td>2</td>\n",
       "      <td>Do Gonbadan</td>\n",
       "      <td>IR</td>\n",
       "      <td>2020-11-03 00:27:28</td>\n",
       "      <td>30.36</td>\n",
       "      <td>50.80</td>\n",
       "      <td>53.60</td>\n",
       "      <td>32</td>\n",
       "      <td>0</td>\n",
       "      <td>2.19</td>\n",
       "    </tr>\n",
       "    <tr>\n",
       "      <th>3</th>\n",
       "      <td>3</td>\n",
       "      <td>Boizenburg</td>\n",
       "      <td>DE</td>\n",
       "      <td>2020-11-03 00:27:28</td>\n",
       "      <td>53.38</td>\n",
       "      <td>10.72</td>\n",
       "      <td>53.01</td>\n",
       "      <td>79</td>\n",
       "      <td>59</td>\n",
       "      <td>1.01</td>\n",
       "    </tr>\n",
       "    <tr>\n",
       "      <th>4</th>\n",
       "      <td>4</td>\n",
       "      <td>Kapaa</td>\n",
       "      <td>US</td>\n",
       "      <td>2020-11-03 00:24:11</td>\n",
       "      <td>22.08</td>\n",
       "      <td>-159.32</td>\n",
       "      <td>82.40</td>\n",
       "      <td>74</td>\n",
       "      <td>90</td>\n",
       "      <td>14.99</td>\n",
       "    </tr>\n",
       "  </tbody>\n",
       "</table>\n",
       "</div>"
      ],
      "text/plain": [
       "   City_ID         City Country                 Date    Lat     Lng  Max Temp  \\\n",
       "0        0  New Norfolk      AU  2020-11-03 00:25:28 -42.78  147.06     79.00   \n",
       "1        1  Yellowknife      CA  2020-11-03 00:22:48  62.46 -114.35     10.99   \n",
       "2        2  Do Gonbadan      IR  2020-11-03 00:27:28  30.36   50.80     53.60   \n",
       "3        3   Boizenburg      DE  2020-11-03 00:27:28  53.38   10.72     53.01   \n",
       "4        4        Kapaa      US  2020-11-03 00:24:11  22.08 -159.32     82.40   \n",
       "\n",
       "   Humidity  Cloudiness  Wind Speed  \n",
       "0        27          87        3.00  \n",
       "1        92          90        9.17  \n",
       "2        32           0        2.19  \n",
       "3        79          59        1.01  \n",
       "4        74          90       14.99  "
      ]
     },
     "execution_count": 5,
     "metadata": {},
     "output_type": "execute_result"
    }
   ],
   "source": [
    "city_data_df.head()"
   ]
  },
  {
   "cell_type": "markdown",
   "metadata": {},
   "source": [
    ">remove negative values (not allowed by google heatmaps) <br>\n",
    "Google heatmaps do not plot negative numbers. If you have a maximum temperature that is less than 0 °F,"
   ]
  },
  {
   "cell_type": "code",
   "execution_count": 6,
   "metadata": {
    "execution": {
     "iopub.execute_input": "2020-11-04T22:24:04.117202Z",
     "iopub.status.busy": "2020-11-04T22:24:04.117202Z",
     "iopub.status.idle": "2020-11-04T22:24:04.164007Z",
     "shell.execute_reply": "2020-11-04T22:24:04.163009Z",
     "shell.execute_reply.started": "2020-11-04T22:24:04.117202Z"
    }
   },
   "outputs": [
    {
     "data": {
      "application/vnd.jupyter.widget-view+json": {
       "model_id": "e21ed5ca0c6548d3a9498f8de160f982",
       "version_major": 2,
       "version_minor": 0
      },
      "text/plain": [
       "Figure(layout=FigureLayout(height='420px'))"
      ]
     },
     "metadata": {},
     "output_type": "display_data"
    }
   ],
   "source": [
    "# Heatmap of temperature\n",
    "# Get the latitude and longitude.\n",
    "locations = city_data_df[[\"Lat\", \"Lng\"]]\n",
    "# Get the maximum temperature.\n",
    "max_temp = city_data_df[\"Max Temp\"] \n",
    "# Assign the figure variable.\n",
    "fig = gmaps.figure()\n",
    "# Assign the heatmap variable.\n",
    "# Get temparatures 0 and over to use for heatmap \n",
    "# if temparature is less than 0, then 0 will be added to the list in its place\n",
    "heat_layer = gmaps.heatmap_layer(locations, weights=[max(temp, 0) for temp in max_temp])\n",
    "# Add the heatmap layer.\n",
    "fig.add_layer(heat_layer)\n",
    "# Call the figure to plot the data.\n",
    "fig"
   ]
  },
  {
   "cell_type": "code",
   "execution_count": null,
   "metadata": {},
   "outputs": [],
   "source": []
  }
 ],
 "metadata": {
  "kernelspec": {
   "display_name": "PythonData",
   "language": "python",
   "name": "pythondata"
  },
  "language_info": {
   "codemirror_mode": {
    "name": "ipython",
    "version": 3
   },
   "file_extension": ".py",
   "mimetype": "text/x-python",
   "name": "python",
   "nbconvert_exporter": "python",
   "pygments_lexer": "ipython3",
   "version": "3.7.9"
  }
 },
 "nbformat": 4,
 "nbformat_minor": 4
}
