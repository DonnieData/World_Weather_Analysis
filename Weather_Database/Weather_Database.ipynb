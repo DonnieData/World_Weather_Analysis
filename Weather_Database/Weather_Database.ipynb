{
 "cells": [
  {
   "cell_type": "code",
   "execution_count": 32,
   "metadata": {
    "execution": {
     "iopub.execute_input": "2020-11-05T19:26:57.437237Z",
     "iopub.status.busy": "2020-11-05T19:26:57.437237Z",
     "iopub.status.idle": "2020-11-05T19:26:57.441229Z",
     "shell.execute_reply": "2020-11-05T19:26:57.440979Z",
     "shell.execute_reply.started": "2020-11-05T19:26:57.437237Z"
    }
   },
   "outputs": [],
   "source": [
    "# import dependenices.\n",
    "import pandas as pd\n",
    "import numpy as np\n",
    "import matplotlib.pyplot as plt \n",
    "import requests\n",
    "from citipy import citipy\n",
    "from config import weather_api_key\n",
    "from datetime import datetime"
   ]
  },
  {
   "cell_type": "code",
   "execution_count": 18,
   "metadata": {
    "execution": {
     "iopub.execute_input": "2020-11-05T18:59:51.647877Z",
     "iopub.status.busy": "2020-11-05T18:59:51.646843Z",
     "iopub.status.idle": "2020-11-05T18:59:51.653682Z",
     "shell.execute_reply": "2020-11-05T18:59:51.653682Z",
     "shell.execute_reply.started": "2020-11-05T18:59:51.647877Z"
    }
   },
   "outputs": [
    {
     "data": {
      "text/plain": [
       "<zip at 0x231a19f7d48>"
      ]
     },
     "execution_count": 18,
     "metadata": {},
     "output_type": "execute_result"
    }
   ],
   "source": [
    "# Create a new set of 2,000 random latitudes and longitudes.\n",
    "lats = np.random.uniform(low=-90.000, high=90.000, size=2000)\n",
    "lngs = np.random.uniform(low=-180.000, high=180.000, size=2000)\n",
    "lat_lngs = zip(lats, lngs)\n",
    "lat_lngs"
   ]
  },
  {
   "cell_type": "code",
   "execution_count": 19,
   "metadata": {
    "execution": {
     "iopub.execute_input": "2020-11-05T18:59:52.079524Z",
     "iopub.status.busy": "2020-11-05T18:59:52.078525Z",
     "iopub.status.idle": "2020-11-05T18:59:52.083512Z",
     "shell.execute_reply": "2020-11-05T18:59:52.083512Z",
     "shell.execute_reply.started": "2020-11-05T18:59:52.079524Z"
    }
   },
   "outputs": [
    {
     "name": "stdout",
     "output_type": "stream",
     "text": [
      "[(-63.81992619034554, -167.12058181664182), (-67.97833870558419, -7.370793369353208), (81.95396891723234, -138.44594850714157)]\n"
     ]
    }
   ],
   "source": [
    "#previww coordinates and structure.\n",
    "coordinates = list(lat_lngs)\n",
    "print(coordinates[0:3])"
   ]
  },
  {
   "cell_type": "code",
   "execution_count": 28,
   "metadata": {
    "execution": {
     "iopub.execute_input": "2020-11-05T19:16:19.851370Z",
     "iopub.status.busy": "2020-11-05T19:16:19.850332Z",
     "iopub.status.idle": "2020-11-05T19:16:21.383832Z",
     "shell.execute_reply": "2020-11-05T19:16:21.383832Z",
     "shell.execute_reply.started": "2020-11-05T19:16:19.851370Z"
    }
   },
   "outputs": [
    {
     "data": {
      "text/plain": [
       "735"
      ]
     },
     "execution_count": 28,
     "metadata": {},
     "output_type": "execute_result"
    }
   ],
   "source": [
    "# Create a list for holding the cities.\n",
    "cities = []\n",
    "# Identify the nearest city for each latitude and longitude combination.\n",
    "for coordinate in coordinates:\n",
    "    city = citipy.nearest_city(coordinate[0], coordinate[1]).city_name\n",
    "\n",
    "    # If the city is unique, then we will add it to the cities list.\n",
    "    if city not in cities:\n",
    "        cities.append(city)\n",
    "# Print the city count to confirm sufficient count.\n",
    "len(cities)"
   ]
  },
  {
   "cell_type": "code",
   "execution_count": 29,
   "metadata": {
    "execution": {
     "iopub.execute_input": "2020-11-05T19:16:57.804742Z",
     "iopub.status.busy": "2020-11-05T19:16:57.803745Z",
     "iopub.status.idle": "2020-11-05T19:16:57.809769Z",
     "shell.execute_reply": "2020-11-05T19:16:57.809769Z",
     "shell.execute_reply.started": "2020-11-05T19:16:57.804742Z"
    }
   },
   "outputs": [
    {
     "data": {
      "text/plain": [
       "['avarua', 'cape town', 'tuktoyaktuk', 'jamestown', 'ushuaia']"
      ]
     },
     "execution_count": 29,
     "metadata": {},
     "output_type": "execute_result"
    }
   ],
   "source": [
    "# preview city data \n",
    "cities[0:5]"
   ]
  },
  {
   "cell_type": "code",
   "execution_count": 30,
   "metadata": {
    "execution": {
     "iopub.execute_input": "2020-11-05T19:23:07.387087Z",
     "iopub.status.busy": "2020-11-05T19:23:07.387087Z",
     "iopub.status.idle": "2020-11-05T19:23:07.391060Z",
     "shell.execute_reply": "2020-11-05T19:23:07.391060Z",
     "shell.execute_reply.started": "2020-11-05T19:23:07.387087Z"
    }
   },
   "outputs": [],
   "source": [
    "# create endpoint url API looping\n",
    "url = 'http://api.openweathermap.org/data/2.5/weather?&units=imperial&appid=' + weather_api_key "
   ]
  },
  {
   "cell_type": "code",
   "execution_count": 59,
   "metadata": {
    "execution": {
     "iopub.execute_input": "2020-11-05T20:03:47.639825Z",
     "iopub.status.busy": "2020-11-05T20:03:47.639825Z",
     "iopub.status.idle": "2020-11-05T20:03:47.766965Z",
     "shell.execute_reply": "2020-11-05T20:03:47.766217Z",
     "shell.execute_reply.started": "2020-11-05T20:03:47.639825Z"
    }
   },
   "outputs": [],
   "source": [
    "r = requests.get(url + \"&q=\" + cities[13].replace(\" \",\"+\") ).json()"
   ]
  },
  {
   "cell_type": "code",
   "execution_count": 81,
   "metadata": {
    "execution": {
     "iopub.execute_input": "2020-11-05T20:07:45.713645Z",
     "iopub.status.busy": "2020-11-05T20:07:45.712646Z",
     "iopub.status.idle": "2020-11-05T20:07:45.721621Z",
     "shell.execute_reply": "2020-11-05T20:07:45.720626Z",
     "shell.execute_reply.started": "2020-11-05T20:07:45.713645Z"
    }
   },
   "outputs": [
    {
     "data": {
      "text/plain": [
       "{'coord': {'lon': 140.77, 'lat': -37.83},\n",
       " 'weather': [{'id': 804,\n",
       "   'main': 'Clouds',\n",
       "   'description': 'overcast clouds',\n",
       "   'icon': '04d'}],\n",
       " 'base': 'stations',\n",
       " 'main': {'temp': 48.2,\n",
       "  'feels_like': 43.65,\n",
       "  'temp_min': 48.2,\n",
       "  'temp_max': 48.2,\n",
       "  'pressure': 1022,\n",
       "  'humidity': 87},\n",
       " 'visibility': 10000,\n",
       " 'wind': {'speed': 5.82, 'deg': 300},\n",
       " 'clouds': {'all': 90},\n",
       " 'dt': 1604606082,\n",
       " 'sys': {'type': 1,\n",
       "  'id': 9560,\n",
       "  'country': 'AU',\n",
       "  'sunrise': 1604604276,\n",
       "  'sunset': 1604654190},\n",
       " 'timezone': 37800,\n",
       " 'id': 2156643,\n",
       " 'name': 'Mount Gambier',\n",
       " 'cod': 200}"
      ]
     },
     "execution_count": 81,
     "metadata": {},
     "output_type": "execute_result"
    }
   ],
   "source": [
    "r"
   ]
  },
  {
   "cell_type": "code",
   "execution_count": 92,
   "metadata": {
    "execution": {
     "iopub.execute_input": "2020-11-05T20:19:25.552725Z",
     "iopub.status.busy": "2020-11-05T20:19:25.551730Z",
     "iopub.status.idle": "2020-11-05T20:21:29.711740Z",
     "shell.execute_reply": "2020-11-05T20:21:29.711740Z",
     "shell.execute_reply.started": "2020-11-05T20:19:25.552725Z"
    }
   },
   "outputs": [
    {
     "name": "stdout",
     "output_type": "stream",
     "text": [
      "60 cities skipped.\n",
      "data for 675 cities acquired \n"
     ]
    }
   ],
   "source": [
    "# Create an empty list to hold the weather data.\n",
    "city_data = []\n",
    "skip_count = 0\n",
    "# Loop through all the cities in the list.\n",
    "for i, city in enumerate(cities):\n",
    "    # Create endpoint URL with each city.\n",
    "    city_url = url + \"&q=\" + city.replace(\" \",\"+\")\n",
    "    # Run an API request for each of the cities.\n",
    "    try:\n",
    "        # Parse the JSON and retrieve data.\n",
    "        city_weather = requests.get(city_url).json()\n",
    "        # Parse out the needed data.\n",
    "        city_lat = city_weather[\"coord\"][\"lat\"]\n",
    "        city_lng = city_weather[\"coord\"][\"lon\"]\n",
    "        city_max_temp = city_weather[\"main\"][\"temp_max\"]\n",
    "        city_humidity = city_weather[\"main\"][\"humidity\"]\n",
    "        city_clouds = city_weather[\"clouds\"][\"all\"]\n",
    "        city_wind = city_weather[\"wind\"][\"speed\"]\n",
    "        city_country = city_weather[\"sys\"][\"country\"]\n",
    "        city_weather_description = city_weather['weather'][0]['description']\n",
    "        # Convert the date to ISO standard.\n",
    "        city_date = datetime.utcfromtimestamp(city_weather[\"dt\"]).strftime('%Y-%m-%d %H:%M:%S')\n",
    "        # Append the city information into city_data list.\n",
    "        city_data.append({\"City\": city.title(),\n",
    "                          \"Country\": city_country,\n",
    "                          \"Lat\": city_lat,\n",
    "                          \"Lng\": city_lng,\n",
    "                          \"Max Temp\": city_max_temp,\n",
    "                          \"Humidity\": city_humidity,\n",
    "                          \"Cloudiness\": city_clouds,\n",
    "                          \"Wind Speed\": city_wind,\n",
    "                          \"Current Description\": city_weather_description})\n",
    "\n",
    "# If an error is experienced, skip the city.\n",
    "    except:\n",
    "        skip_count += 1\n",
    "        continue\n",
    "# print api summary notes.\n",
    "print('{} cities skipped.'.format(skip_count)) \n",
    "print('data for {} cities acquired '.format(len(city_data)))"
   ]
  },
  {
   "cell_type": "code",
   "execution_count": 96,
   "metadata": {
    "execution": {
     "iopub.execute_input": "2020-11-05T20:27:08.964581Z",
     "iopub.status.busy": "2020-11-05T20:27:08.964581Z",
     "iopub.status.idle": "2020-11-05T20:27:08.981500Z",
     "shell.execute_reply": "2020-11-05T20:27:08.980501Z",
     "shell.execute_reply.started": "2020-11-05T20:27:08.964581Z"
    }
   },
   "outputs": [
    {
     "data": {
      "text/html": [
       "<div>\n",
       "<style scoped>\n",
       "    .dataframe tbody tr th:only-of-type {\n",
       "        vertical-align: middle;\n",
       "    }\n",
       "\n",
       "    .dataframe tbody tr th {\n",
       "        vertical-align: top;\n",
       "    }\n",
       "\n",
       "    .dataframe thead th {\n",
       "        text-align: right;\n",
       "    }\n",
       "</style>\n",
       "<table border=\"1\" class=\"dataframe\">\n",
       "  <thead>\n",
       "    <tr style=\"text-align: right;\">\n",
       "      <th></th>\n",
       "      <th>City</th>\n",
       "      <th>Country</th>\n",
       "      <th>Lat</th>\n",
       "      <th>Lng</th>\n",
       "      <th>Max Temp</th>\n",
       "      <th>Humidity</th>\n",
       "      <th>Cloudiness</th>\n",
       "      <th>Wind Speed</th>\n",
       "      <th>Current Description</th>\n",
       "    </tr>\n",
       "  </thead>\n",
       "  <tbody>\n",
       "    <tr>\n",
       "      <th>0</th>\n",
       "      <td>Avarua</td>\n",
       "      <td>CK</td>\n",
       "      <td>-21.21</td>\n",
       "      <td>-159.78</td>\n",
       "      <td>75.20</td>\n",
       "      <td>78</td>\n",
       "      <td>86</td>\n",
       "      <td>17.87</td>\n",
       "      <td>overcast clouds</td>\n",
       "    </tr>\n",
       "    <tr>\n",
       "      <th>1</th>\n",
       "      <td>Cape Town</td>\n",
       "      <td>ZA</td>\n",
       "      <td>-33.93</td>\n",
       "      <td>18.42</td>\n",
       "      <td>66.99</td>\n",
       "      <td>88</td>\n",
       "      <td>75</td>\n",
       "      <td>9.17</td>\n",
       "      <td>light rain</td>\n",
       "    </tr>\n",
       "    <tr>\n",
       "      <th>2</th>\n",
       "      <td>Tuktoyaktuk</td>\n",
       "      <td>CA</td>\n",
       "      <td>69.45</td>\n",
       "      <td>-133.04</td>\n",
       "      <td>6.80</td>\n",
       "      <td>77</td>\n",
       "      <td>90</td>\n",
       "      <td>13.87</td>\n",
       "      <td>light snow</td>\n",
       "    </tr>\n",
       "    <tr>\n",
       "      <th>3</th>\n",
       "      <td>Jamestown</td>\n",
       "      <td>US</td>\n",
       "      <td>42.10</td>\n",
       "      <td>-79.24</td>\n",
       "      <td>64.00</td>\n",
       "      <td>42</td>\n",
       "      <td>1</td>\n",
       "      <td>11.41</td>\n",
       "      <td>clear sky</td>\n",
       "    </tr>\n",
       "    <tr>\n",
       "      <th>4</th>\n",
       "      <td>Ushuaia</td>\n",
       "      <td>AR</td>\n",
       "      <td>-54.80</td>\n",
       "      <td>-68.30</td>\n",
       "      <td>50.00</td>\n",
       "      <td>46</td>\n",
       "      <td>75</td>\n",
       "      <td>13.87</td>\n",
       "      <td>broken clouds</td>\n",
       "    </tr>\n",
       "  </tbody>\n",
       "</table>\n",
       "</div>"
      ],
      "text/plain": [
       "          City Country    Lat     Lng  Max Temp  Humidity  Cloudiness  \\\n",
       "0       Avarua      CK -21.21 -159.78     75.20        78          86   \n",
       "1    Cape Town      ZA -33.93   18.42     66.99        88          75   \n",
       "2  Tuktoyaktuk      CA  69.45 -133.04      6.80        77          90   \n",
       "3    Jamestown      US  42.10  -79.24     64.00        42           1   \n",
       "4      Ushuaia      AR -54.80  -68.30     50.00        46          75   \n",
       "\n",
       "   Wind Speed Current Description  \n",
       "0       17.87     overcast clouds  \n",
       "1        9.17          light rain  \n",
       "2       13.87          light snow  \n",
       "3       11.41           clear sky  \n",
       "4       13.87       broken clouds  "
      ]
     },
     "execution_count": 96,
     "metadata": {},
     "output_type": "execute_result"
    }
   ],
   "source": [
    "# review dataframe\n",
    "city_data_df = pd.DataFrame(city_data)\n",
    "city_data_df.head()"
   ]
  },
  {
   "cell_type": "code",
   "execution_count": 97,
   "metadata": {
    "execution": {
     "iopub.execute_input": "2020-11-05T20:28:30.989780Z",
     "iopub.status.busy": "2020-11-05T20:28:30.989006Z",
     "iopub.status.idle": "2020-11-05T20:28:31.026222Z",
     "shell.execute_reply": "2020-11-05T20:28:31.025224Z",
     "shell.execute_reply.started": "2020-11-05T20:28:30.989780Z"
    }
   },
   "outputs": [],
   "source": [
    "# Export the City_Data into a CSV.\n",
    "city_data_df.to_csv('WeatherPy_Database.csv',index_label='City_ID')"
   ]
  },
  {
   "cell_type": "code",
   "execution_count": null,
   "metadata": {},
   "outputs": [],
   "source": []
  }
 ],
 "metadata": {
  "kernelspec": {
   "display_name": "PythonData",
   "language": "python",
   "name": "pythondata"
  },
  "language_info": {
   "codemirror_mode": {
    "name": "ipython",
    "version": 3
   },
   "file_extension": ".py",
   "mimetype": "text/x-python",
   "name": "python",
   "nbconvert_exporter": "python",
   "pygments_lexer": "ipython3",
   "version": "3.7.9"
  }
 },
 "nbformat": 4,
 "nbformat_minor": 4
}
